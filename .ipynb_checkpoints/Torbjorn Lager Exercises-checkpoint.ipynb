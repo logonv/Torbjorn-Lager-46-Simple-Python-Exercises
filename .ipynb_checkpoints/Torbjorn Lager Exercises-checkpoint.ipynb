{
 "cells": [
  {
   "cell_type": "markdown",
   "metadata": {},
   "source": [
    "Ex 1: Define a function ```max()``` that takes two numbers as arguments and returns the largest of them. Use the if-then-else construct available in Python. (It is true that Python has the ```max()``` function built in, but writing it yourself is nevertheless a good exercise.)"
   ]
  },
  {
   "cell_type": "code",
   "execution_count": null,
   "metadata": {},
   "outputs": [],
   "source": [
    "def homemade_max(x,y):\n",
    "    if x>y:\n",
    "        return x\n",
    "    else:\n",
    "        return y"
   ]
  },
  {
   "cell_type": "markdown",
   "metadata": {},
   "source": [
    "Ex 2: Define a function ```max_of_three()``` that takes three numbers as arguments and returns the largest of them."
   ]
  },
  {
   "cell_type": "code",
   "execution_count": null,
   "metadata": {},
   "outputs": [],
   "source": [
    "def max_of_three(a,b,c):\n",
    "    return max(a,b,c)\n",
    "\n",
    "#lazy way above"
   ]
  },
  {
   "cell_type": "code",
   "execution_count": null,
   "metadata": {},
   "outputs": [],
   "source": [
    "max_of_three(7,3,5)"
   ]
  },
  {
   "cell_type": "code",
   "execution_count": null,
   "metadata": {},
   "outputs": [],
   "source": [
    "def homemade_max_of_three(a,b,c):\n",
    "    if a>b:\n",
    "        if a>c:\n",
    "            return a\n",
    "        else:\n",
    "            return c\n",
    "    elif b>c:\n",
    "        return b\n",
    "    else:\n",
    "        return c"
   ]
  },
  {
   "cell_type": "code",
   "execution_count": null,
   "metadata": {},
   "outputs": [],
   "source": [
    "homemade_max_of_three(7,6,7)"
   ]
  },
  {
   "cell_type": "markdown",
   "metadata": {},
   "source": [
    "Ex 3: Define a function that computes the length of a given list or string. (It is true that Python has the ```len()``` function built in, but writing it yourself is nevertheless a good exercise.)"
   ]
  },
  {
   "cell_type": "code",
   "execution_count": null,
   "metadata": {},
   "outputs": [],
   "source": [
    "def length_of_string(string):\n",
    "    i=0\n",
    "    for char in string:\n",
    "        i=i+1\n",
    "    return i\n"
   ]
  },
  {
   "cell_type": "code",
   "execution_count": null,
   "metadata": {},
   "outputs": [],
   "source": [
    "length_of_string(\"jhuk\")"
   ]
  },
  {
   "cell_type": "markdown",
   "metadata": {},
   "source": [
    "Ex 4: Write a function that takes a character (i.e. a string of length 1) and returns ```True``` if it is a vowel, ```False``` otherwise."
   ]
  },
  {
   "cell_type": "code",
   "execution_count": null,
   "metadata": {},
   "outputs": [],
   "source": [
    "def is_char_vowel(char):\n",
    "    return char.lower() in [\"a\",\"e\",\"i\",\"o\",\"u\"]\n",
    "        "
   ]
  },
  {
   "cell_type": "markdown",
   "metadata": {},
   "source": [
    "Ex 5: Write a function ```translate()``` that will translate a text into \"rövarspråket\" (Swedish for \"robber's language\"). That is, double every consonant and place an occurrence of ```\"o\"```in between. For example, ```translate(\"this is fun\")``` should return the string ```\"tothohisos isos fofunon\"```."
   ]
  },
  {
   "cell_type": "code",
   "execution_count": null,
   "metadata": {},
   "outputs": [],
   "source": [
    "def is_char_vowel(char):\n",
    "    return char.lower() in [\"a\",\"e\",\"i\",\"o\",\"u\"]\n",
    "\n",
    "def translate(text):\n",
    "    output=\"\"\n",
    "    for char in text:\n",
    "        if not is_char_vowel(char):\n",
    "            output = output + char + \"o\" + char\n",
    "        else:\n",
    "            output = output + char\n",
    "    \n",
    "    return output\n",
    "            \n",
    "        "
   ]
  },
  {
   "cell_type": "code",
   "execution_count": null,
   "metadata": {},
   "outputs": [],
   "source": [
    "translate(\"this is fun\")"
   ]
  },
  {
   "cell_type": "markdown",
   "metadata": {},
   "source": [
    "Ex 6: Define a function sum()and a function multiply()that sums and multiplies (respectively) all the numbers in a list of numbers. For example, sum([1,2,3,4]) should return 10, and multiply([1, 2,3,4]) should return 24."
   ]
  },
  {
   "cell_type": "code",
   "execution_count": null,
   "metadata": {},
   "outputs": [],
   "source": [
    "def homemade_sum(list_of_num):\n",
    "    total = 0\n",
    "    for i in list_of_num:\n",
    "        total=total +i\n",
    "    return total\n",
    "\n",
    "def homemade_multiply(list_of_num):\n",
    "    product=1\n",
    "    for i in list_of_num:\n",
    "        product=product*i\n",
    "    return product"
   ]
  },
  {
   "cell_type": "markdown",
   "metadata": {},
   "source": [
    "Ex 7: Define a function reverse() that computes the reversal of a string. For example, reverse(\"I am testing\")should return the string \"gnitset ma I\".\n"
   ]
  },
  {
   "cell_type": "code",
   "execution_count": null,
   "metadata": {},
   "outputs": [],
   "source": [
    "def reverse(string):\n",
    "    return string[::-1]"
   ]
  },
  {
   "cell_type": "markdown",
   "metadata": {},
   "source": [
    "Ex 8: Define a function is_palindrome() that recognizes palindromes (i.e. words that look the same written backwards). For example, is_palindrome(\"radar\") should return True."
   ]
  },
  {
   "cell_type": "code",
   "execution_count": null,
   "metadata": {},
   "outputs": [],
   "source": [
    "def reverse(string):\n",
    "    return string[::-1]\n",
    "\n",
    "def is_palindrome(text):\n",
    "    return text == reverse(text)\n",
    "\n",
    "import re\n",
    "punc_space_remove=re.compile(r\"\\W|\\s|\\_\")\n",
    "\n",
    "def is_palindrome_sentence(sentence):    \n",
    "    \"\"\"Check palindrome for sentences and phrases. Punctuation, capitalization, and spacing are ignored\"\"\"\n",
    "    sentence=punc_space_remove.sub(\"\",sentence)\n",
    "    sentence=sentence.lower()\n",
    "    print(sentence)\n",
    "    return sentence==reverse(sentence)\n",
    "    \n",
    "    "
   ]
  },
  {
   "cell_type": "code",
   "execution_count": null,
   "metadata": {},
   "outputs": [],
   "source": [
    "user_string= \"Dammit! I'm mad!\"\n",
    "is_palindrome_sentence(user_string)"
   ]
  },
  {
   "cell_type": "code",
   "execution_count": null,
   "metadata": {},
   "outputs": [],
   "source": [
    "help(is_palindrome_sentence)"
   ]
  },
  {
   "cell_type": "markdown",
   "metadata": {},
   "source": [
    "Ex 9: Write a function is_member() that takes a value (i.e. a number, string, etc) x and a list of values a, and returns True if x is a member of a, False otherwise. (Note that this is exactly what the in operator does, but for the sake of the exercise you should pretend Python did not have this operator.)"
   ]
  },
  {
   "cell_type": "code",
   "execution_count": null,
   "metadata": {},
   "outputs": [],
   "source": [
    "def is_member(x,a):\n",
    "    \n",
    "    for item in a:\n",
    "        if x==item:\n",
    "            return True\n",
    "        \n",
    "    return False\n",
    "    "
   ]
  },
  {
   "cell_type": "code",
   "execution_count": null,
   "metadata": {},
   "outputs": [],
   "source": [
    "is_member([\"c\"],[\"a\",\"b\"])"
   ]
  },
  {
   "cell_type": "markdown",
   "metadata": {},
   "source": [
    "Ex 10: Define a function overlapping() that takes two lists and returns True if they have at least one member in common, False otherwise. You may use your is_member() function, or the in operator, but for the sake of the exercise, you should (also) write it using two nested for loops."
   ]
  },
  {
   "cell_type": "code",
   "execution_count": null,
   "metadata": {},
   "outputs": [],
   "source": [
    "def overlapping(a,b):\n",
    "    for item1 in a:\n",
    "        for item2 in b:\n",
    "            if item1==item2:\n",
    "                return True\n",
    "            \n",
    "    return False"
   ]
  },
  {
   "cell_type": "code",
   "execution_count": null,
   "metadata": {},
   "outputs": [],
   "source": [
    "overlapping([\"c\",\"a\"],[\"a\",\"b\"])"
   ]
  },
  {
   "cell_type": "markdown",
   "metadata": {},
   "source": [
    "Ex 11: Define a function generate_n_chars() that takes an integer n and a character cand returns a string, n characters long, consisting only of cs. For example, generate_n_chars(5,\"x\") should return the string \"xxxxx\". (Python is unusual in that you can actually write an expression 5 * \"x\" that will evaluate to \"xxxxx\". For the sake of the exercise you should ignore that the problem can be solved in this manner.)"
   ]
  },
  {
   "cell_type": "code",
   "execution_count": null,
   "metadata": {},
   "outputs": [],
   "source": [
    "def generate_n_char(n,c):\n",
    "    output=\"\"\n",
    "    for i in range(n):\n",
    "        output=output+c\n",
    "    \n",
    "    return output"
   ]
  },
  {
   "cell_type": "markdown",
   "metadata": {},
   "source": [
    "Ex 12: Define a procedure histogram() that takes a list of integers and prints a histogram to the screen. "
   ]
  },
  {
   "cell_type": "code",
   "execution_count": null,
   "metadata": {},
   "outputs": [],
   "source": [
    "def histogram(int_list):\n",
    "    for item in int_list:\n",
    "        print(item*\"*\")"
   ]
  },
  {
   "cell_type": "code",
   "execution_count": null,
   "metadata": {},
   "outputs": [],
   "source": [
    "histogram([4,5,6])"
   ]
  },
  {
   "cell_type": "markdown",
   "metadata": {},
   "source": [
    "Ex 13: The function max() from exercise 1) and the function max_of_three() from exercise 2) will only work for two and three numbers, respectively. But suppose we have a much larger number of numbers, or suppose we cannot tell in advance how many they are? Write a function max_in_list() that takes a list of numbers and returns the largest one.\n"
   ]
  },
  {
   "cell_type": "code",
   "execution_count": null,
   "metadata": {},
   "outputs": [],
   "source": [
    "def max_in_list(list_of_nums):\n",
    "    max_num=list_of_nums[0]\n",
    "    for num in list_of_nums:\n",
    "        if num>max_num:\n",
    "            max_num=num\n",
    "            \n",
    "    return max_num"
   ]
  },
  {
   "cell_type": "markdown",
   "metadata": {},
   "source": [
    "Ex 14: Write a program that maps a list of words into a list of integers representing the lengths of the correponding words."
   ]
  },
  {
   "cell_type": "code",
   "execution_count": null,
   "metadata": {},
   "outputs": [],
   "source": [
    "def map_list_of_words_to_list_of_word_length(list_of_words):\n",
    "    list_of_lengths=[]\n",
    "    for word in list_of_words:\n",
    "        list_of_lengths.append(len(word))\n",
    "    return list_of_lengths"
   ]
  },
  {
   "cell_type": "code",
   "execution_count": null,
   "metadata": {},
   "outputs": [],
   "source": [
    "map_list_of_words_to_list_of_word_length([\"hello\",\"my\"])"
   ]
  },
  {
   "cell_type": "markdown",
   "metadata": {},
   "source": [
    "Ex 15: Write a function find_longest_word() that takes a list of words and returns the length of the longest one."
   ]
  },
  {
   "cell_type": "code",
   "execution_count": null,
   "metadata": {},
   "outputs": [],
   "source": [
    "def find_longest_word(list_of_words):\n",
    "    max_length=len(list_of_words[0])\n",
    "    longest_word=list_of_words[0]\n",
    "    for word in list_of_words:\n",
    "        if len(word)>max_length:\n",
    "            max_length=len(word)\n",
    "            longest_word=word\n",
    "        \n",
    "    return longest_word"
   ]
  },
  {
   "cell_type": "markdown",
   "metadata": {},
   "source": [
    "Ex 16: Write a function filter_long_words() that takes a list of words and an integer n and returns the list of words that are longer than n."
   ]
  },
  {
   "cell_type": "code",
   "execution_count": null,
   "metadata": {},
   "outputs": [],
   "source": [
    "def filter_long_words(list_of_words,n):\n",
    "    filtered_list=[]\n",
    "    for word in list_of_words:\n",
    "        if len(word)>n:\n",
    "            filtered_list.append(word)\n",
    "            \n",
    "    return filtered_list"
   ]
  },
  {
   "cell_type": "code",
   "execution_count": null,
   "metadata": {},
   "outputs": [],
   "source": [
    "word_list=[\"hell\",\"djkasjlk\",\"jdn\"]"
   ]
  },
  {
   "cell_type": "markdown",
   "metadata": {},
   "source": [
    "Ex 17: Write a version of a palindrome recognizer that also accepts phrase palindromes such as \"Go hang a salami I'm a lasagna hog.\", \"Was it a rat I saw?\", \"Step on no pets\", \"Sit on a potato pan, Otis\", \"Lisa Bonet ate no basil\", \"Satan, oscillate my metallic sonatas\", \"I roamed under it as a tired nude Maori\", \"Rise to vote sir\", or the exclamation \"Dammit, I'm mad!\". Note that punctuation, capitalization, and spacing are usually ignored."
   ]
  },
  {
   "cell_type": "code",
   "execution_count": null,
   "metadata": {},
   "outputs": [],
   "source": [
    "#see Ex8"
   ]
  },
  {
   "cell_type": "markdown",
   "metadata": {},
   "source": [
    "Ex 18: A pangram is a sentence that contains all the letters of the English alphabet at least once, for example: The quick brown fox jumps over the lazy dog. Your task here is to write a function to check a sentence to see if it is a pangram or not.\n"
   ]
  },
  {
   "cell_type": "code",
   "execution_count": null,
   "metadata": {},
   "outputs": [],
   "source": [
    "import re\n",
    "\n",
    "def is_panagram(sentence):\n",
    "    alphabet=\"abcdefghijklmnopqrstuvwxyz\"\n",
    "    punc_space_remove=re.compile(r\"\\W|\\s|\\_\")\n",
    "    sentence=punc_space_remove.sub(\"\",sentence)\n",
    "    sentence=sentence.lower()\n",
    "    for char in sentence:\n",
    "        sentence=sentence.replace(char,\"\")\n",
    "        #print(sentence)\n",
    "        alphabet=alphabet.replace(char,\"\")\n",
    "        #print(alphabet)\n",
    "    \n",
    "    return alphabet ==\"\"\n",
    "         \n",
    "    \n",
    "    \n",
    "    "
   ]
  },
  {
   "cell_type": "code",
   "execution_count": null,
   "metadata": {},
   "outputs": [],
   "source": [
    "test=\"The quick brown fox jumps over the lay dog.\""
   ]
  },
  {
   "cell_type": "code",
   "execution_count": null,
   "metadata": {},
   "outputs": [],
   "source": [
    "is_panagram(test)"
   ]
  },
  {
   "cell_type": "markdown",
   "metadata": {},
   "source": [
    "Ex 19: \"99 Bottles of Beer\" is a traditional song in the United States and Canada. It is popular to sing on long trips, as it has a very repetitive format which is easy to memorize, and can take a long time to sing. The song's simple lyrics are as follows:\n",
    "\n",
    "99 bottles of beer on the wall, 99 bottles of beer.\n",
    "Take one down, pass it around, 98 bottles of beer on the wall.\n",
    "\n",
    "The same verse is repeated, each time with one fewer bottle. The song is completed when the singer or singers reach zero.\n",
    "\n",
    "Your task here is to write a Python program capable of generating all the verses of the song.\n",
    "\n"
   ]
  },
  {
   "cell_type": "code",
   "execution_count": null,
   "metadata": {
    "scrolled": true
   },
   "outputs": [],
   "source": [
    "interger_list=list(range(1,100))\n",
    "interger_list.reverse()\n",
    "for i in interger_list:\n",
    "    if i-1>1:\n",
    "        print(\"{:2} bottles of beer on the wall, {:2} bottles of beer. Take one down, pass it around, {:2} bottles of beer on the wall.\".format(i,i,i-1))\n",
    "    elif i-1 == 1:\n",
    "        print(\"{:2} bottles of beer on the wall, {:2} bottles of beer. Take one down, pass it around, {:2} bottle of beer on the wall.\".format(i,i,i-1))\n",
    "    elif i-1==0:\n",
    "        print(\"{:2} bottle of beer on the wall, {:2} bottle of beer. Take one down, pass it around, {:2} bottles of beer on the wall.\".format(i,i,i-1))\n",
    "        "
   ]
  },
  {
   "cell_type": "markdown",
   "metadata": {},
   "source": [
    "Extension: making the numbers words"
   ]
  },
  {
   "cell_type": "code",
   "execution_count": null,
   "metadata": {},
   "outputs": [],
   "source": [
    "unit_dict={1:'one',\n",
    "           2:'two',\n",
    "           3:'three',\n",
    "           4:'four',\n",
    "           5:'five',\n",
    "           6:'six',\n",
    "           7:'seven',\n",
    "           8:'eight',\n",
    "           9:'nine',\n",
    "           0:'zero',\n",
    "           10:'ten',\n",
    "           11:'eleven',\n",
    "           12:'twelve',\n",
    "           13:'thirteen',\n",
    "           14:'fourteen',\n",
    "           15:'fifteen',\n",
    "           16:'sixteen',\n",
    "           17:'seventeen',\n",
    "           18:'eighteen',\n",
    "           19:'nineteen',}\n",
    "\n",
    "other_teens_dict={2:'twenty', \n",
    "                  3:'thirty', \n",
    "                  4:'fourty', \n",
    "                  5:'fifty',\n",
    "                 6:'sixty',\n",
    "                 7:'seventy',\n",
    "                 8:'eighty',\n",
    "                 9:'ninety',}\n",
    "\n",
    "\n",
    "\n",
    "interger_list=list(range(1,100))\n",
    "interger_list.reverse()\n",
    "for i in interger_list:\n",
    "    if int(i/10)<2:\n",
    "        #print(\"yes\")\n",
    "        string1=unit_dict.get(i)\n",
    "    else:       \n",
    "        if i%10==0:\n",
    "            string1=other_teens_dict.get(int(i/10))\n",
    "        else:\n",
    "            string1=other_teens_dict.get(int(i/10)) + \" \" + unit_dict.get(i%10)\n",
    "    \n",
    "    if int((i-1)/10)<2:\n",
    "        string2=unit_dict.get(i-1)\n",
    "    else:       \n",
    "        if (i-1)%10==0:\n",
    "            string2=other_teens_dict.get(int((i-1)/10))\n",
    "        else:\n",
    "            string2=other_teens_dict.get(int((i-1)/10)) + \" \" + unit_dict.get((i-1)%10)\n",
    "    if i==2:\n",
    "        print(\"{} bottles of beer on the wall, {} bottles of beer. \\nTake one down, pass it around, {} bottle of beer on the wall.\".format(string1.capitalize(),string1,string2))\n",
    "    elif i==1:\n",
    "        print(\"{} bottle of beer on the wall, {} bottle of beer. \\nTake one down, pass it around, there are no bottles of beer on the wall.\".format(string1.capitalize(),string1))\n",
    "    else:\n",
    "        print(\"{} bottles of beer on the wall, {} bottles of beer. \\nTake one down, pass it around, {} bottles of beer on the wall.\".format(string1.capitalize(),string1,string2))\n",
    "   "
   ]
  },
  {
   "cell_type": "markdown",
   "metadata": {},
   "source": [
    "Ex 20: Represent a small bilingual lexicon as a Python dictionary in the following fashion ```{\"merry\":\"god\", \"christmas\":\"jul\", \"and\":\"och\", \"happy\":\"gott\", \"new\":\"nytt\", \"year\":\"år\"}``` and use it to translate your Christmas cards from English into Swedish. That is, write a function ```translate()``` that takes a list of English words and returns a list of Swedish words."
   ]
  },
  {
   "cell_type": "code",
   "execution_count": null,
   "metadata": {},
   "outputs": [],
   "source": [
    "def translate(list_of_english_words):\n",
    "    dictionary={\"merry\":\"god\", \"christmas\":\"jul\", \"and\":\"och\", \"happy\":\"gott\", \"new\":\"nytt\", \"year\":\"år\"} \n",
    "    list_of_swedish_words=[]\n",
    "    for word in list_of_english_words:\n",
    "        #not can use get or index, I will use get and state word not in dictionary\n",
    "        list_of_swedish_words.append(dictionary.get(word,\"word not in dictionary\"))\n",
    "    return list_of_swedish_words"
   ]
  },
  {
   "cell_type": "code",
   "execution_count": null,
   "metadata": {},
   "outputs": [],
   "source": [
    "translate([\"merry\",\"christmas\",\"and\",\"happy\",\"new\",\"year\",\"folks\"])"
   ]
  },
  {
   "cell_type": "markdown",
   "metadata": {},
   "source": [
    "Ex 21: Write a function ```char_freq()``` that takes a string and builds a frequency listing of the characters contained in it. Represent the frequency listing as a Python dictionary. "
   ]
  },
  {
   "cell_type": "code",
   "execution_count": null,
   "metadata": {},
   "outputs": [],
   "source": [
    "def char_freq(string):\n",
    "    string=string.lower()\n",
    "    alphabet=\"abcdefghijklmnopqrstuvwxyz\"\n",
    "    dictionary={}\n",
    "    for letter in alphabet:\n",
    "        dictionary[letter]=string.count(letter)\n",
    "    return dictionary"
   ]
  },
  {
   "cell_type": "markdown",
   "metadata": {},
   "source": [
    "Ex 22: In cryptography, a Caesar cipher is a very simple encryption techniques in which each letter in the plain text is replaced by a letter some fixed number of positions down the alphabet. For example, with a shift of 3, A would be replaced by D, B would become E, and so on. The method is named after Julius Caesar, who used it to communicate with his generals. ROT-13 (\"rotate by 13 places\") is a widely used example of a Caesar cipher where the shift is 13. In Python, the key for ROT-13 may be represented by means of the following dictionary:\n",
    "\n",
    "```\n",
    "key = {'a':'n', 'b':'o', 'c':'p', 'd':'q', 'e':'r', 'f':'s', 'g':'t', 'h':'u', \n",
    "       'i':'v', 'j':'w', 'k':'x', 'l':'y', 'm':'z', 'n':'a', 'o':'b', 'p':'c', \n",
    "       'q':'d', 'r':'e', 's':'f', 't':'g', 'u':'h', 'v':'i', 'w':'j', 'x':'k',\n",
    "       'y':'l', 'z':'m', 'A':'N', 'B':'O', 'C':'P', 'D':'Q', 'E':'R', 'F':'S', \n",
    "       'G':'T', 'H':'U', 'I':'V', 'J':'W', 'K':'X', 'L':'Y', 'M':'Z', 'N':'A', \n",
    "       'O':'B', 'P':'C', 'Q':'D', 'R':'E', 'S':'F', 'T':'G', 'U':'H', 'V':'I', \n",
    "       'W':'J', 'X':'K', 'Y':'L', 'Z':'M'}\n",
    "```\n",
    "\n",
    "Your task in this exercise is to implement an encoder/decoder of ROT-13. Once you're done, you will be able to read the following secret message:\n",
    "\n",
    "   ```Pnrfne pvcure? V zhpu cersre Pnrfne fnynq!```\n",
    "   \n",
    "Note that since English has 26 characters, your ROT-13 program will be able to both encode and decode texts written in English."
   ]
  },
  {
   "cell_type": "code",
   "execution_count": null,
   "metadata": {},
   "outputs": [],
   "source": [
    "key = {'a':'n', 'b':'o', 'c':'p', 'd':'q', 'e':'r', 'f':'s', 'g':'t', 'h':'u', \n",
    "       'i':'v', 'j':'w', 'k':'x', 'l':'y', 'm':'z', 'n':'a', 'o':'b', 'p':'c', \n",
    "       'q':'d', 'r':'e', 's':'f', 't':'g', 'u':'h', 'v':'i', 'w':'j', 'x':'k',\n",
    "       'y':'l', 'z':'m', 'A':'N', 'B':'O', 'C':'P', 'D':'Q', 'E':'R', 'F':'S', \n",
    "       'G':'T', 'H':'U', 'I':'V', 'J':'W', 'K':'X', 'L':'Y', 'M':'Z', 'N':'A', \n",
    "       'O':'B', 'P':'C', 'Q':'D', 'R':'E', 'S':'F', 'T':'G', 'U':'H', 'V':'I', \n",
    "       'W':'J', 'X':'K', 'Y':'L', 'Z':'M',}\n",
    "\n",
    "message=\"Pnrfne pvcure? V zhpu cersre Pnrfne fnynq!\"\n",
    "outputlist=[]\n",
    "for word in message.split():\n",
    "    outputword=\"\"\n",
    "    for character in word:\n",
    "        #print(character)\n",
    "        #print(key.get(character))\n",
    "        if character not in key.keys():\n",
    "            outputword=outputword+character\n",
    "        else:\n",
    "            outputword=outputword+key.get(character)\n",
    "        \n",
    "    outputlist.append(outputword)\n",
    "\n",
    "output_message=\" \".join(outputlist)\n",
    "print(output_message)"
   ]
  },
  {
   "cell_type": "markdown",
   "metadata": {},
   "source": [
    "Ex 23: Define a simple \"spelling correction\" function ```correct()``` that takes a string and sees to it that 1) two or more occurrences of the space character is compressed into one, and 2) inserts an extra space after a period if the period is directly followed by a letter. E.g. ```correct(\"This     is very funny    and    cool.Indeed!\")``` should return ```\"This is very funny and cool. Indeed!\" ```"
   ]
  },
  {
   "cell_type": "code",
   "execution_count": null,
   "metadata": {},
   "outputs": [],
   "source": [
    "import re\n",
    "def correct(sentence):\n",
    "    compress_white_space=re.compile(r\"\\s{2,}\")\n",
    "    space_after_full_stop_before_letter=re.compile(r\"\\.[A-za-z]\")\n",
    "    sentence=compress_white_space.sub(\" \",sentence)\n",
    "    a=space_after_full_stop_before_letter.search(sentence)\n",
    "    output=\"\"\n",
    "    for char in a.group():\n",
    "        output=output+char\n",
    "        if char==\".\":\n",
    "            output=output+\" \"\n",
    "\n",
    "    return space_after_full_stop_before_letter.sub(output,sentence)\n",
    "\n",
    "\n",
    "    "
   ]
  },
  {
   "cell_type": "code",
   "execution_count": null,
   "metadata": {},
   "outputs": [],
   "source": [
    "correct(\"This     is very funny    and    cool.Indeed!\")"
   ]
  },
  {
   "cell_type": "markdown",
   "metadata": {},
   "source": [
    "Ex 24: The third person singular verb form in English is distinguished by the suffix ­s, which is added to the stem of the infinitive form: run -> runs. A simple set of rules can be given as follows:\n",
    "1. If the verb ends in y, remove it and add ies \n",
    "2. If the verb ends in o, ch, s, sh, x or z, add es \n",
    "3. By default just add s\n",
    "      \n",
    "Your task in this exercise is to define a function ```make_3sg_form()```which given a verb in infinitive form returns its third person singular form. Test your function with words like try, brush, run and fix. Note however that the rules must be regarded as heuristic, in the sense that you must not expect them to work for all cases. Tip: Check out the string method ```endswith()```."
   ]
  },
  {
   "cell_type": "code",
   "execution_count": null,
   "metadata": {},
   "outputs": [],
   "source": [
    "def make_3sg_form(infinitive):\n",
    "    if infinitive.endswith(\"y\"):\n",
    "        return infinitive[:-1]+\"ies\"\n",
    "    elif infinitive[-1] in [\"o\",\"s\",\"x\",\"z\"]:\n",
    "        return infinitive+\"es\"\n",
    "    elif infinitive[-2:] in [\"ch\",\"sh\"]:\n",
    "        return infinitive+\"es\"\n",
    "    else:\n",
    "        return infinitive+\"s\"\n",
    "        \n",
    "        \n",
    "    "
   ]
  },
  {
   "cell_type": "code",
   "execution_count": null,
   "metadata": {},
   "outputs": [],
   "source": [
    "make_3sg_form(\"fix\")"
   ]
  },
  {
   "cell_type": "markdown",
   "metadata": {},
   "source": [
    "Ex 25: In English, the present participle is formed by adding the suffix -ing to the infinite form: go -> going. A simple set of heuristic rules can be given as follows:\n",
    "1. If the verb ends in e, drop the e and add ing (if not exception: be, see, flee, knee, etc.)\n",
    "2. If the verb ends in ie, change ie to y and add ing\n",
    "3. For words consisting of consonant-vowel-consonant, double the final letter before adding ing \n",
    "4. By default just add ing\n",
    "\n",
    "Your task in this exercise is to define a function ```make_ing_form()```which given a verb in infinitive form returns its present participle form. Test your function with words such as lie, see, move and hug. However, you must not expect such simple rules to work for all cases."
   ]
  },
  {
   "cell_type": "code",
   "execution_count": null,
   "metadata": {},
   "outputs": [],
   "source": [
    "import re\n",
    "\n",
    "con_vow_con=re.compile(r\"[^aeiou][aeiou][^aeiou]\")\n",
    "\n",
    "def make_ing_form(infinitive):\n",
    "    if infinitive.endswith(\"ie\"):\n",
    "        return infinitive[:-2]+\"ying\"\n",
    "    elif infinitive.endswith(\"e\"):\n",
    "        if infinitive in [\"be\",\"see\",\"flee\",\"knee\"]:\n",
    "            return infinitive +\"ing\"\n",
    "        else:\n",
    "            return infinitive[:-1]+\"ing\"\n",
    "    elif con_vow_con.search(infinitive):\n",
    "        return infinitive+infinitive[-1]+\"ing\"\n",
    "    else:\n",
    "        return infinitive+\"ing\""
   ]
  },
  {
   "cell_type": "code",
   "execution_count": null,
   "metadata": {},
   "outputs": [],
   "source": [
    "make_ing_form(\"bake\")"
   ]
  },
  {
   "cell_type": "markdown",
   "metadata": {},
   "source": [
    "Ex 26: Using the higher order function ```reduce()```, write a function ```max_in_list()```that takes a list of numbers and returns the largest one. Then ask yourself: why define and call a new function, when I can just as well call the ```reduce()```function directly?\n"
   ]
  },
  {
   "cell_type": "code",
   "execution_count": null,
   "metadata": {},
   "outputs": [],
   "source": [
    "from functools import reduce\n",
    "def max_in_list(list_of_nums):\n",
    "    def big(x,y):\n",
    "        return x if x>y else y\n",
    "    return reduce(big,list_of_nums)"
   ]
  },
  {
   "cell_type": "code",
   "execution_count": null,
   "metadata": {},
   "outputs": [],
   "source": [
    "a=[10,2,3,4,5]"
   ]
  },
  {
   "cell_type": "code",
   "execution_count": null,
   "metadata": {},
   "outputs": [],
   "source": [
    "max_in_list(a)"
   ]
  },
  {
   "cell_type": "markdown",
   "metadata": {},
   "source": [
    "Ex 27: Write a program that maps a list of words into a list of integers representing the lengths of the correponding words. Write it in three different ways: \n",
    "\n",
    "1) using a for loop  \n",
    "2) using the higher order function ```map()```  \n",
    "3) using list comprehensions."
   ]
  },
  {
   "cell_type": "code",
   "execution_count": null,
   "metadata": {},
   "outputs": [],
   "source": [
    "def map_list_of_words_to_list_of_word_length1(list_of_words):\n",
    "    list_of_lengths=[]\n",
    "    for word in list_of_words:\n",
    "        list_of_lengths.append(len(word))\n",
    "    return list_of_lengths"
   ]
  },
  {
   "cell_type": "code",
   "execution_count": null,
   "metadata": {},
   "outputs": [],
   "source": [
    "def map_list_of_words_to_list_of_word_length2(list_of_words):\n",
    "    return list(map(len,list_of_words))\n",
    "\n"
   ]
  },
  {
   "cell_type": "code",
   "execution_count": null,
   "metadata": {},
   "outputs": [],
   "source": [
    "def map_list_of_words_to_list_of_word_length3(list_of_words):\n",
    "    return [len(word) for word in list_of_words]\n",
    "   "
   ]
  },
  {
   "cell_type": "markdown",
   "metadata": {},
   "source": [
    "Ex 28: Write a function ```find_longest_word()```that takes a list of words and returns the length of the longest one. Use only higher order functions."
   ]
  },
  {
   "cell_type": "code",
   "execution_count": null,
   "metadata": {},
   "outputs": [],
   "source": [
    "def find_longest_word(list_of_words):\n",
    "    def bigger_word(x,y):\n",
    "        return x if len(x) > len(y) else y\n",
    "    return reduce(bigger_word,list_of_words)"
   ]
  },
  {
   "cell_type": "code",
   "execution_count": null,
   "metadata": {},
   "outputs": [],
   "source": [
    "find_longest_word([\"merry\",\"christmas\",\"and\",\"happy\",\"new\",\"year\",\"folks\"])"
   ]
  },
  {
   "cell_type": "markdown",
   "metadata": {},
   "source": [
    "Ex 29: Using the higher order function ```filter()```, define a function ```filter_long_words()``` that takes a list of words and an integer ```n``` and returns the list of words that are longer than ```n```."
   ]
  },
  {
   "cell_type": "code",
   "execution_count": null,
   "metadata": {},
   "outputs": [],
   "source": [
    "def filter_long_words2(list_of_words,n):\n",
    "    \n",
    "    def longer_than(x):\n",
    "        if len(x)>n:\n",
    "            return True\n",
    "        else:\n",
    "            return False\n",
    "    \n",
    "    return list(filter(longer_than,list_of_words))"
   ]
  },
  {
   "cell_type": "code",
   "execution_count": null,
   "metadata": {},
   "outputs": [],
   "source": [
    "filter_long_words2([\"merry\",\"christmas\",\"and\",\"happy\",\"new\",\"year\",\"folks\"],3)"
   ]
  },
  {
   "cell_type": "markdown",
   "metadata": {},
   "source": [
    "Ex 30: Represent a small bilingual lexicon as a Python dictionary in the following fashion ```{\"merry\":\"god\", \"christmas\":\"jul\", \"and\":\"och\", \"happy\":\"gott\", \"new\":\"nytt\", \"year\":\"år\"}``` and use it to translate your Christmas cards from English into Swedish. Use the higher order function ```map()``` to write a function ```translate()``` that takes a list of English words and returns a list of Swedish words.\n"
   ]
  },
  {
   "cell_type": "code",
   "execution_count": null,
   "metadata": {},
   "outputs": [],
   "source": [
    "def translate2(list_of_words):\n",
    "    dictionary={\"merry\":\"god\", \"christmas\":\"jul\", \"and\":\"och\", \"happy\":\"gott\", \"new\":\"nytt\", \"year\":\"år\"}\n",
    "    return list(map(dictionary.get,list_of_words))"
   ]
  },
  {
   "cell_type": "code",
   "execution_count": null,
   "metadata": {},
   "outputs": [],
   "source": [
    "translate2([\"merry\",\"christmas\",\"and\",\"happy\",\"new\",\"year\",\"folks\"])"
   ]
  },
  {
   "cell_type": "markdown",
   "metadata": {},
   "source": [
    "Ex 31: Implement the higher order functions ```map()```, ```filter()``` and ```reduce()```. (They are built­in but writing them yourself may be a good exercise.)"
   ]
  },
  {
   "cell_type": "code",
   "execution_count": null,
   "metadata": {},
   "outputs": [],
   "source": [
    "def homemade_map(func,iterable):\n",
    "    return [func(item) for item in iterable]\n",
    "\n",
    "def homemade_filter(func,iterable):\n",
    "    output_iterable=[]\n",
    "    for item in iterable:\n",
    "        if func(item):\n",
    "            output_iterable.append(item)\n",
    "            \n",
    "    return output_iterable\n",
    "\n",
    "def homemade_reduce(func,iterable):\n",
    "    value=iterable[0]\n",
    "    for i in range(1,len(iterable)-1):\n",
    "        value=func(value,iterable[1])\n",
    "        \n",
    "    return value\n",
    "    \n",
    "\n",
    "    "
   ]
  },
  {
   "cell_type": "markdown",
   "metadata": {},
   "source": [
    "Ex 32. Write a version of a palindrome recogniser that accepts a file name from the user, reads each line, and prints the line to the screen if it is a palindrome.\n"
   ]
  },
  {
   "cell_type": "code",
   "execution_count": null,
   "metadata": {},
   "outputs": [],
   "source": [
    "import re\n",
    "punc_space_remove=re.compile(r\"\\W|\\s|\\_\")\n",
    "\n",
    "def reverse(string):\n",
    "    return string[::-1]\n",
    "\n",
    "def is_palindrome_sentence(sentence):    \n",
    "    \"\"\"Check palindrome for sentences and phrases. Punctuation, capitalization, and spacing are ignored\"\"\"\n",
    "    sentence=punc_space_remove.sub(\"\",sentence)\n",
    "    sentence=sentence.lower()\n",
    "    #print(sentence)\n",
    "    return sentence==reverse(sentence)\n",
    "\n",
    "\n",
    "while True:\n",
    "    try:\n",
    "        file_name=input(\"What is the file you want to search?\\n\")\n",
    "    except:\n",
    "        print(\"Something went wrong\")\n",
    "        raise\n",
    "    else:\n",
    "        break\n",
    "        \n",
    "\n",
    "\n",
    "#file_name=\"ex32_input_file.txt\"\n",
    "\n",
    "while True:\n",
    "    try:\n",
    "        with open(file_name) as file:\n",
    "            print(\"Opening file\\n\")\n",
    "            for line in file:\n",
    "                if is_palindrome_sentence(line):\n",
    "                    print(line)\n",
    "    except FileNotFoundError:\n",
    "        file_name=input(\"File not found. Please enter an existing filename to search.\\n\")\n",
    "    except:\n",
    "        print(\"Something went wrong\")\n",
    "        raise \n",
    "    else:\n",
    "        break"
   ]
  },
  {
   "cell_type": "markdown",
   "metadata": {},
   "source": [
    "Ex 33. According to Wikipedia, a semordnilap is a word or phrase that spells a different word or phrase backwards. (\"Semordnilap\" is itself \"palindromes\" spelled backwards.) Write a semordnilap recogniser that accepts a file name (pointing to a list of words) from the user and finds and prints all pairs of words that are semordnilaps to the screen. For example, if \"stressed\" and \"desserts\" is part of the word list, the the output should include the pair \"stressed desserts\". Note, by the way, that each pair by itself forms a palindrome!"
   ]
  },
  {
   "cell_type": "code",
   "execution_count": null,
   "metadata": {},
   "outputs": [],
   "source": [
    "def reverse(string):\n",
    "    return string[::-1]\n",
    "\n",
    "while True:\n",
    "    try:\n",
    "        file_name=input(\"What is the file you want to search?\\n\")\n",
    "    except:\n",
    "        print(\"Something went wrong\")\n",
    "        raise\n",
    "    else:\n",
    "        break\n",
    "\n",
    "\n",
    "#file_name=\"ex33_input_file.txt\"\n",
    "\n",
    "while True:\n",
    "    try:\n",
    "        with open(file_name) as file:\n",
    "            print(\"Opening file\\n\")\n",
    "            words_list=[]\n",
    "            for line in file:\n",
    "                words_list.append(line.strip())\n",
    "        \n",
    "    except FileNotFoundError:\n",
    "        file_name=input(\"File not found. Please enter an existing filename to search.\\n\")\n",
    "    except:\n",
    "        print(\"Something went wrong\")\n",
    "        raise \n",
    "    else:\n",
    "        break\n",
    "\n",
    "        \n",
    "\n",
    "\n",
    "#words_list1=words_list[:]\n",
    "\n",
    "\n",
    "#words_list2=words_list[:]\n",
    "\n",
    "#for word1 in words_list1:\n",
    "#    for word2 in words_list2:\n",
    "#        if reverse(word1)==word2:\n",
    "#            #print(\"loop1\")\n",
    "#            print(word1 + \" \" + word2)\n",
    "#            words_list2.remove(word1)\n",
    "\n",
    "\n",
    "\n",
    "for word in words_list:\n",
    "    if reverse(word) in words_list:\n",
    "        #print(\"loop2\")\n",
    "        print(word + \" \" + reverse(word))\n",
    "        words_list.remove(word)\n"
   ]
  },
  {
   "cell_type": "markdown",
   "metadata": {},
   "source": [
    "Ex 34. Write a procedure ```char_freq_table()``` that, when run in a terminal, accepts a file name from the user, builds a frequency listing of the characters contained in the file, and prints a sorted and nicely formatted character frequency table to the screen.\n",
    "        "
   ]
  },
  {
   "cell_type": "code",
   "execution_count": 2,
   "metadata": {},
   "outputs": [
    {
     "name": "stdout",
     "output_type": "stream",
     "text": [
      "What is the file you want to search?\n",
      "ex32_input_file.txt\n",
      "Opening file\n",
      "\n",
      "e 121\n",
      "a 76\n",
      "o 67\n",
      "t 65\n",
      "r 52\n",
      "d 50\n",
      "n 49\n",
      "s 45\n",
      "h 43\n",
      "i 41\n",
      "l 30\n",
      "c 23\n",
      "u 22\n",
      "p 22\n",
      "w 21\n",
      "m 20\n",
      "y 17\n",
      "g 14\n",
      ". 13\n",
      "v 13\n",
      "f 12\n",
      "b 10\n",
      "k 10\n",
      "T 8\n",
      "R 8\n",
      "I 6\n",
      ", 6\n",
      "S 5\n",
      "D 3\n",
      "E 3\n",
      "W 3\n",
      "M 3\n",
      "? 3\n",
      "! 2\n",
      "' 2\n",
      "- 2\n",
      "C 2\n",
      "N 2\n",
      "’ 1\n",
      "G 1\n",
      "A 1\n",
      "K 1\n",
      "L 1\n",
      "H 1\n"
     ]
    }
   ],
   "source": [
    "while True:\n",
    "    try:\n",
    "        file_name=input(\"What is the file you want to search?\\n\")\n",
    "    except:\n",
    "        print(\"Something went wrong\")\n",
    "        raise\n",
    "    else:\n",
    "        break\n",
    "\n",
    "#file_name=\"ex32_input_file.txt\"\n",
    "\n",
    "while True:\n",
    "    try:\n",
    "        with open(file_name) as file:\n",
    "            print(\"Opening file\\n\")\n",
    "            text=\"\"\n",
    "            for line in file:\n",
    "                text=text+line.strip()+\" \"\n",
    "        \n",
    "    except FileNotFoundError:\n",
    "        file_name=input(\"File not found. Please enter an existing filename to search.\\n\")\n",
    "    except:\n",
    "        print(\"Something went wrong\")\n",
    "        raise \n",
    "    else:\n",
    "        break\n",
    "\n",
    "count_dictionary={}\n",
    "text=text.replace(\" \",\"\")\n",
    "for char in text:\n",
    "    count_dictionary[char] = text.count(char)\n",
    "    text.replace(char,\"\")\n",
    "#print(count_dictionary)\n",
    "\n",
    "sorted_keys=sorted(count_dictionary,key=count_dictionary.get,reverse=True)\n",
    "for key in sorted_keys:\n",
    "    print(key + \" \" + str(count_dictionary[key]))"
   ]
  },
  {
   "cell_type": "markdown",
   "metadata": {},
   "source": [
    "Ex 35. The International Civil Aviation Organization (ICAO) alphabet assigns code words to the letters of the English alphabet acrophonically (Alfa for A, Bravo for B, etc.) so that critical combinations of letters (and numbers) can be pronounced and understood by those who transmit and receive voice messages by radio or telephone regardless of their native language, especially when the safety of navigation or persons is essential. Here is a Python dictionary covering one version of the ICAO alphabet:\n",
    "\n",
    "```d = {'a':'alfa', 'b':'bravo', 'c':'charlie', 'd':'delta', 'e':'echo', 'f':'foxtrot',\n",
    "'g':'golf', 'h':'hotel', 'i':'india', 'j':'juliett', 'k':'kilo', 'l':'lima',\n",
    "'m':'mike', 'n':'november', 'o':'oscar', 'p':'papa', 'q':'quebec', 'r':'romeo',\n",
    "'s':'sierra', 't':'tango', 'u':'uniform', 'v':'victor', 'w':'whiskey', 'x':'x-ray', 'y':'yankee', 'z':'zulu'}```\n",
    "\n",
    "Your task in this exercise is to write a procedure ```speak_ICAO()``` able to translate any text (i.e. any string) into spoken ICAO words. You need to import at least two libraries: ```os``` and ```time```. On a mac, you have access to the system TTS (Text-To-Speech) as follows: ```os.system('say'+msg)```, where ```msg``` is the string to be spoken. (Under UNIX/Linux and Windows, something similar might exist.) Apart from the text to be spoken, your procedure also needs to accept two additional parameters: a float indicating the length of the pause between each spoken ICAO word, and a float indicating the length of the pause between each word spoken."
   ]
  },
  {
   "cell_type": "code",
   "execution_count": 1,
   "metadata": {},
   "outputs": [],
   "source": [
    "import time \n",
    "import os\n",
    "dictionary = {'a':'alfa', 'b':'bravo', 'c':'charlie', 'd':'delta', 'e':'echo', 'f':'foxtrot',\n",
    "    'g':'golf', 'h':'hotel', 'i':'india', 'j':'juliett', 'k':'kilo', 'l':'lima',\n",
    "    'm':'mike', 'n':'november', 'o':'oscar', 'p':'papa', 'q':'quebec', 'r':'romeo',\n",
    "    's':'sierra', 't':'tango', 'u':'uniform', 'v':'victor', 'w':'whiskey', 'x':'x-ray', 'y':'yankee', 'z':'zulu'}\n",
    "\n",
    "\n",
    "def speak_ICAO(string=\"Hello\",char_delay=0.5,word_delay=1.5):\n",
    "\n",
    "\n",
    "    icao_list=[]\n",
    "    for char in string.lower():\n",
    "        if char not in dictionary.keys():\n",
    "            #icao_list.append(char)\n",
    "            icao_list.append(\"space\")\n",
    "            pass\n",
    "        else:\n",
    "            icao_list.append(dictionary.get(char))\n",
    "\n",
    "    for word in icao_list:\n",
    "        if word==\"space\":\n",
    "            time.sleep(word_delay)\n",
    "        else:\n",
    "            os.system(\"say \" + word)\n",
    "            time.sleep(char_delay)"
   ]
  },
  {
   "cell_type": "code",
   "execution_count": 2,
   "metadata": {},
   "outputs": [],
   "source": [
    "speak_ICAO(\"Logan\",0.3,1.3)"
   ]
  },
  {
   "cell_type": "markdown",
   "metadata": {},
   "source": [
    "Ex 36. A hapax legomenon (often abbreviated to hapax) is a word which occurs only once in either the written record of a language, the works of an author, or in a single text. Define a function that given the file name of a text will return all its hapaxes. Make sure your program ignores capitalization."
   ]
  },
  {
   "cell_type": "code",
   "execution_count": null,
   "metadata": {},
   "outputs": [],
   "source": []
  },
  {
   "cell_type": "code",
   "execution_count": null,
   "metadata": {},
   "outputs": [],
   "source": []
  },
  {
   "cell_type": "code",
   "execution_count": null,
   "metadata": {},
   "outputs": [],
   "source": []
  },
  {
   "cell_type": "code",
   "execution_count": null,
   "metadata": {},
   "outputs": [],
   "source": []
  },
  {
   "cell_type": "code",
   "execution_count": null,
   "metadata": {},
   "outputs": [],
   "source": []
  },
  {
   "cell_type": "code",
   "execution_count": null,
   "metadata": {},
   "outputs": [],
   "source": []
  },
  {
   "cell_type": "code",
   "execution_count": null,
   "metadata": {},
   "outputs": [],
   "source": []
  },
  {
   "cell_type": "code",
   "execution_count": null,
   "metadata": {},
   "outputs": [],
   "source": []
  },
  {
   "cell_type": "code",
   "execution_count": null,
   "metadata": {},
   "outputs": [],
   "source": []
  },
  {
   "cell_type": "code",
   "execution_count": null,
   "metadata": {},
   "outputs": [],
   "source": []
  },
  {
   "cell_type": "code",
   "execution_count": null,
   "metadata": {},
   "outputs": [],
   "source": []
  }
 ],
 "metadata": {
  "kernelspec": {
   "display_name": "Python 3",
   "language": "python",
   "name": "python3"
  },
  "language_info": {
   "codemirror_mode": {
    "name": "ipython",
    "version": 3
   },
   "file_extension": ".py",
   "mimetype": "text/x-python",
   "name": "python",
   "nbconvert_exporter": "python",
   "pygments_lexer": "ipython3",
   "version": "3.8.3"
  }
 },
 "nbformat": 4,
 "nbformat_minor": 4
}
