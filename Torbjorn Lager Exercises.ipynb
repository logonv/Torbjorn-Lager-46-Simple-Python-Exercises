{
 "cells": [
  {
   "cell_type": "markdown",
   "metadata": {},
   "source": [
    "Ex 1: Define a function ```max()``` that takes two numbers as arguments and returns the largest of them. Use the if-then-else construct available in Python. (It is true that Python has the ```max()``` function built in, but writing it yourself is nevertheless a good exercise.)"
   ]
  },
  {
   "cell_type": "code",
   "execution_count": 1,
   "metadata": {},
   "outputs": [],
   "source": [
    "def homemade_max(x,y):\n",
    "    if x>y:\n",
    "        return x\n",
    "    else:\n",
    "        return y"
   ]
  },
  {
   "cell_type": "markdown",
   "metadata": {},
   "source": [
    "Ex 2: Define a function ```max_of_three()``` that takes three numbers as arguments and returns the largest of them."
   ]
  },
  {
   "cell_type": "code",
   "execution_count": 5,
   "metadata": {},
   "outputs": [],
   "source": [
    "def max_of_three(a,b,c):\n",
    "    return max(a,b,c)\n",
    "\n",
    "#lazy way above"
   ]
  },
  {
   "cell_type": "code",
   "execution_count": 7,
   "metadata": {},
   "outputs": [
    {
     "data": {
      "text/plain": [
       "7"
      ]
     },
     "execution_count": 7,
     "metadata": {},
     "output_type": "execute_result"
    }
   ],
   "source": [
    "max_of_three(7,3,5)"
   ]
  },
  {
   "cell_type": "code",
   "execution_count": 8,
   "metadata": {},
   "outputs": [],
   "source": [
    "def homemade_max_of_three(a,b,c):\n",
    "    if a>b:\n",
    "        if a>c:\n",
    "            return a\n",
    "        else:\n",
    "            return c\n",
    "    elif b>c:\n",
    "        return b\n",
    "    else:\n",
    "        return c"
   ]
  },
  {
   "cell_type": "code",
   "execution_count": 16,
   "metadata": {},
   "outputs": [
    {
     "data": {
      "text/plain": [
       "7"
      ]
     },
     "execution_count": 16,
     "metadata": {},
     "output_type": "execute_result"
    }
   ],
   "source": [
    "homemade_max_of_three(7,6,7)"
   ]
  },
  {
   "cell_type": "markdown",
   "metadata": {},
   "source": [
    "Ex 3: Define a function that computes the length of a given list or string. (It is true that Python has the ```len()``` function built in, but writing it yourself is nevertheless a good exercise.)"
   ]
  },
  {
   "cell_type": "code",
   "execution_count": 17,
   "metadata": {},
   "outputs": [],
   "source": [
    "def length_of_string(string):\n",
    "    i=0\n",
    "    for char in string:\n",
    "        i=i+1\n",
    "    return i\n"
   ]
  },
  {
   "cell_type": "code",
   "execution_count": 18,
   "metadata": {},
   "outputs": [
    {
     "data": {
      "text/plain": [
       "4"
      ]
     },
     "execution_count": 18,
     "metadata": {},
     "output_type": "execute_result"
    }
   ],
   "source": [
    "length_of_string(\"jhuk\")"
   ]
  },
  {
   "cell_type": "markdown",
   "metadata": {},
   "source": [
    "Ex 4: Write a function that takes a character (i.e. a string of length 1) and returns ```True``` if it is a vowel, ```False``` otherwise."
   ]
  },
  {
   "cell_type": "code",
   "execution_count": 25,
   "metadata": {},
   "outputs": [],
   "source": [
    "def is_char_vowel(char):\n",
    "    return char.lower() in [\"a\",\"e\",\"i\",\"o\",\"u\"]\n",
    "        "
   ]
  },
  {
   "cell_type": "markdown",
   "metadata": {},
   "source": [
    "Ex 5: Write a function ```translate()``` that will translate a text into \"rövarspråket\" (Swedish for \"robber's language\"). That is, double every consonant and place an occurrence of ```\"o\"```in between. For example, ```translate(\"this is fun\")``` should return the string ```\"tothohisos isos fofunon\"```."
   ]
  },
  {
   "cell_type": "code",
   "execution_count": 34,
   "metadata": {},
   "outputs": [],
   "source": [
    "def is_char_vowel(char):\n",
    "    return char.lower() in [\"a\",\"e\",\"i\",\"o\",\"u\"]\n",
    "\n",
    "def translate(text):\n",
    "    output=\"\"\n",
    "    for char in text:\n",
    "        if not is_char_vowel(char):\n",
    "            output = output + char + \"o\" + char\n",
    "        else:\n",
    "            output = output + char\n",
    "    \n",
    "    return output\n",
    "            \n",
    "        "
   ]
  },
  {
   "cell_type": "code",
   "execution_count": 53,
   "metadata": {},
   "outputs": [
    {
     "data": {
      "text/plain": [
       "'tothohisos o isos o fofunon'"
      ]
     },
     "execution_count": 53,
     "metadata": {},
     "output_type": "execute_result"
    }
   ],
   "source": [
    "translate(\"this is fun\")"
   ]
  },
  {
   "cell_type": "markdown",
   "metadata": {},
   "source": [
    "Ex 6: Define a function sum()and a function multiply()that sums and multiplies (respectively) all the numbers in a list of numbers. For example, sum([1,2,3,4]) should return 10, and multiply([1, 2,3,4]) should return 24."
   ]
  },
  {
   "cell_type": "code",
   "execution_count": 42,
   "metadata": {},
   "outputs": [],
   "source": [
    "def homemade_sum(list_of_num):\n",
    "    total = 0\n",
    "    for i in list_of_num:\n",
    "        total=total +i\n",
    "    return total\n",
    "\n",
    "def homemade_multiply(list_of_num):\n",
    "    product=1\n",
    "    for i in list_of_num:\n",
    "        product=product*i\n",
    "    return product"
   ]
  },
  {
   "cell_type": "markdown",
   "metadata": {},
   "source": [
    "Ex 7: Define a function reverse() that computes the reversal of a string. For example, reverse(\"I am testing\")should return the string \"gnitset ma I\".\n"
   ]
  },
  {
   "cell_type": "code",
   "execution_count": 51,
   "metadata": {},
   "outputs": [],
   "source": [
    "def reverse(string):\n",
    "    return string[::-1]"
   ]
  },
  {
   "cell_type": "markdown",
   "metadata": {},
   "source": [
    "Ex 8: Define a function is_palindrome() that recognizes palindromes (i.e. words that look the same written backwards). For example, is_palindrome(\"radar\") should return True."
   ]
  },
  {
   "cell_type": "code",
   "execution_count": 77,
   "metadata": {},
   "outputs": [],
   "source": [
    "def reverse(string):\n",
    "    return string[::-1]\n",
    "\n",
    "def is_palindrome(text):\n",
    "    return text == reverse(text)\n",
    "\n",
    "import re\n",
    "punc_space_remove=re.compile(r\"\\W|\\s|\\_\")\n",
    "\n",
    "def is_palindrome_sentence(sentence):    \n",
    "    \"\"\"Check palindrome for sentences and phrases. Punctuation, capitalization, and spacing are ignored\"\"\"\n",
    "    sentence=punc_space_remove.sub(\"\",sentence)\n",
    "    sentence=sentence.lower()\n",
    "    print(sentence)\n",
    "    return sentence==reverse(sentence)\n",
    "    \n",
    "    "
   ]
  },
  {
   "cell_type": "code",
   "execution_count": 78,
   "metadata": {},
   "outputs": [
    {
     "name": "stdout",
     "output_type": "stream",
     "text": [
      "dammitimmad\n"
     ]
    },
    {
     "data": {
      "text/plain": [
       "True"
      ]
     },
     "execution_count": 78,
     "metadata": {},
     "output_type": "execute_result"
    }
   ],
   "source": [
    "user_string= \"Dammit! I'm mad!\"\n",
    "is_palindrome_sentence(user_string)"
   ]
  },
  {
   "cell_type": "code",
   "execution_count": 85,
   "metadata": {},
   "outputs": [
    {
     "name": "stdout",
     "output_type": "stream",
     "text": [
      "Help on function is_palindrome_sentence in module __main__:\n",
      "\n",
      "is_palindrome_sentence(sentence)\n",
      "    Check palindrome for sentences and phrases. Punctuation, capitalization, and spacing are ignored\n",
      "\n"
     ]
    }
   ],
   "source": [
    "help(is_palindrome_sentence)"
   ]
  },
  {
   "cell_type": "markdown",
   "metadata": {},
   "source": [
    "Ex 9: Write a function is_member() that takes a value (i.e. a number, string, etc) x and a list of values a, and returns True if x is a member of a, False otherwise. (Note that this is exactly what the in operator does, but for the sake of the exercise you should pretend Python did not have this operator.)"
   ]
  },
  {
   "cell_type": "code",
   "execution_count": 82,
   "metadata": {},
   "outputs": [],
   "source": [
    "def is_member(x,a):\n",
    "    \n",
    "    for item in a:\n",
    "        if x==item:\n",
    "            return True\n",
    "        \n",
    "    return False\n",
    "    "
   ]
  },
  {
   "cell_type": "code",
   "execution_count": 84,
   "metadata": {},
   "outputs": [
    {
     "data": {
      "text/plain": [
       "False"
      ]
     },
     "execution_count": 84,
     "metadata": {},
     "output_type": "execute_result"
    }
   ],
   "source": [
    "is_member([\"c\"],[\"a\",\"b\"])"
   ]
  },
  {
   "cell_type": "markdown",
   "metadata": {},
   "source": [
    "Ex 10: Define a function overlapping() that takes two lists and returns True if they have at least one member in common, False otherwise. You may use your is_member() function, or the in operator, but for the sake of the exercise, you should (also) write it using two nested for loops."
   ]
  },
  {
   "cell_type": "code",
   "execution_count": 86,
   "metadata": {},
   "outputs": [],
   "source": [
    "def overlapping(a,b):\n",
    "    for item1 in a:\n",
    "        for item2 in b:\n",
    "            if item1==item2:\n",
    "                return True\n",
    "            \n",
    "    return False"
   ]
  },
  {
   "cell_type": "code",
   "execution_count": 88,
   "metadata": {},
   "outputs": [
    {
     "data": {
      "text/plain": [
       "True"
      ]
     },
     "execution_count": 88,
     "metadata": {},
     "output_type": "execute_result"
    }
   ],
   "source": [
    "overlapping([\"c\",\"a\"],[\"a\",\"b\"])"
   ]
  },
  {
   "cell_type": "markdown",
   "metadata": {},
   "source": [
    "Ex 11: Define a function generate_n_chars() that takes an integer n and a character cand returns a string, n characters long, consisting only of cs. For example, generate_n_chars(5,\"x\") should return the string \"xxxxx\". (Python is unusual in that you can actually write an expression 5 * \"x\" that will evaluate to \"xxxxx\". For the sake of the exercise you should ignore that the problem can be solved in this manner.)"
   ]
  },
  {
   "cell_type": "code",
   "execution_count": 89,
   "metadata": {},
   "outputs": [],
   "source": [
    "def generate_n_char(n,c):\n",
    "    output=\"\"\n",
    "    for i in range(n):\n",
    "        output=output+c\n",
    "    \n",
    "    return output"
   ]
  },
  {
   "cell_type": "markdown",
   "metadata": {},
   "source": [
    "Ex 12: Define a procedure histogram() that takes a list of integers and prints a histogram to the screen. "
   ]
  },
  {
   "cell_type": "code",
   "execution_count": 92,
   "metadata": {},
   "outputs": [],
   "source": [
    "def histogram(int_list):\n",
    "    for item in int_list:\n",
    "        print(item*\"*\")"
   ]
  },
  {
   "cell_type": "code",
   "execution_count": 93,
   "metadata": {},
   "outputs": [
    {
     "name": "stdout",
     "output_type": "stream",
     "text": [
      "****\n",
      "*****\n",
      "******\n"
     ]
    }
   ],
   "source": [
    "histogram([4,5,6])"
   ]
  },
  {
   "cell_type": "markdown",
   "metadata": {},
   "source": [
    "Ex 13: The function max() from exercise 1) and the function max_of_three() from exercise 2) will only work for two and three numbers, respectively. But suppose we have a much larger number of numbers, or suppose we cannot tell in advance how many they are? Write a function max_in_list() that takes a list of numbers and returns the largest one.\n"
   ]
  },
  {
   "cell_type": "code",
   "execution_count": 94,
   "metadata": {},
   "outputs": [],
   "source": [
    "def max_in_list(list_of_nums):\n",
    "    max_num=list_of_nums[0]\n",
    "    for num in list_of_nums:\n",
    "        if num>max_num:\n",
    "            max_num=num\n",
    "            \n",
    "    return max_num"
   ]
  },
  {
   "cell_type": "markdown",
   "metadata": {},
   "source": [
    "Ex 14: Write a program that maps a list of words into a list of integers representing the lengths of the correponding words."
   ]
  },
  {
   "cell_type": "code",
   "execution_count": 100,
   "metadata": {},
   "outputs": [],
   "source": [
    "def map_list_of_words_to_list_of_word_length(list_of_words):\n",
    "    list_of_lengths=[]\n",
    "    for word in list_of_words:\n",
    "        list_of_lengths.append(len(word))\n",
    "    return list_of_lengths"
   ]
  },
  {
   "cell_type": "code",
   "execution_count": 101,
   "metadata": {},
   "outputs": [
    {
     "data": {
      "text/plain": [
       "[5, 2]"
      ]
     },
     "execution_count": 101,
     "metadata": {},
     "output_type": "execute_result"
    }
   ],
   "source": [
    "map_list_of_words_to_list_of_word_length([\"hello\",\"my\"])"
   ]
  },
  {
   "cell_type": "markdown",
   "metadata": {},
   "source": [
    "Ex 15: Write a function find_longest_word() that takes a list of words and returns the length of the longest one."
   ]
  },
  {
   "cell_type": "code",
   "execution_count": 102,
   "metadata": {},
   "outputs": [],
   "source": [
    "def find_longest_word(list_of_words):\n",
    "    max_length=len(list_of_words[0])\n",
    "    longest_word=list_of_words[0]\n",
    "    for word in list_of_words:\n",
    "        if len(word)>max_length:\n",
    "            max_length=len(word)\n",
    "            longest_word=word\n",
    "        \n",
    "    return longest_word"
   ]
  },
  {
   "cell_type": "markdown",
   "metadata": {},
   "source": [
    "Ex 16: Write a function filter_long_words() that takes a list of words and an integer n and returns the list of words that are longer than n."
   ]
  },
  {
   "cell_type": "code",
   "execution_count": 105,
   "metadata": {},
   "outputs": [],
   "source": [
    "def filter_long_words(list_of_words,n):\n",
    "    filtered_list=[]\n",
    "    for word in list_of_words:\n",
    "        if len(word)>n:\n",
    "            filtered_list.append(word)\n",
    "            \n",
    "    return filtered_list"
   ]
  },
  {
   "cell_type": "code",
   "execution_count": 106,
   "metadata": {},
   "outputs": [],
   "source": [
    "word_list=[\"hell\",\"djkasjlk\",\"jdn\"]"
   ]
  },
  {
   "cell_type": "markdown",
   "metadata": {},
   "source": [
    "Ex 17: Write a version of a palindrome recognizer that also accepts phrase palindromes such as \"Go hang a salami I'm a lasagna hog.\", \"Was it a rat I saw?\", \"Step on no pets\", \"Sit on a potato pan, Otis\", \"Lisa Bonet ate no basil\", \"Satan, oscillate my metallic sonatas\", \"I roamed under it as a tired nude Maori\", \"Rise to vote sir\", or the exclamation \"Dammit, I'm mad!\". Note that punctuation, capitalization, and spacing are usually ignored."
   ]
  },
  {
   "cell_type": "code",
   "execution_count": null,
   "metadata": {},
   "outputs": [],
   "source": [
    "#see Ex8"
   ]
  },
  {
   "cell_type": "markdown",
   "metadata": {},
   "source": [
    "Ex 18: A pangram is a sentence that contains all the letters of the English alphabet at least once, for example: The quick brown fox jumps over the lazy dog. Your task here is to write a function to check a sentence to see if it is a pangram or not.\n"
   ]
  },
  {
   "cell_type": "code",
   "execution_count": 144,
   "metadata": {},
   "outputs": [],
   "source": [
    "import re\n",
    "\n",
    "def is_panagram(sentence):\n",
    "    alphabet=\"abcdefghijklmnopqrstuvwxyz\"\n",
    "    punc_space_remove=re.compile(r\"\\W|\\s|\\_\")\n",
    "    sentence=punc_space_remove.sub(\"\",sentence)\n",
    "    sentence=sentence.lower()\n",
    "    for char in sentence:\n",
    "        sentence=sentence.replace(char,\"\")\n",
    "        #print(sentence)\n",
    "        alphabet=alphabet.replace(char,\"\")\n",
    "        #print(alphabet)\n",
    "    \n",
    "    return alphabet ==\"\"\n",
    "         \n",
    "    \n",
    "    \n",
    "    "
   ]
  },
  {
   "cell_type": "code",
   "execution_count": 145,
   "metadata": {},
   "outputs": [],
   "source": [
    "test=\"The quick brown fox jumps over the lay dog.\""
   ]
  },
  {
   "cell_type": "code",
   "execution_count": 146,
   "metadata": {},
   "outputs": [
    {
     "data": {
      "text/plain": [
       "False"
      ]
     },
     "execution_count": 146,
     "metadata": {},
     "output_type": "execute_result"
    }
   ],
   "source": [
    "is_panagram(test)"
   ]
  },
  {
   "cell_type": "markdown",
   "metadata": {},
   "source": [
    "Ex 19: \"99 Bottles of Beer\" is a traditional song in the United States and Canada. It is popular to sing on long trips, as it has a very repetitive format which is easy to memorize, and can take a long time to sing. The song's simple lyrics are as follows:\n",
    "\n",
    "99 bottles of beer on the wall, 99 bottles of beer.\n",
    "Take one down, pass it around, 98 bottles of beer on the wall.\n",
    "\n",
    "The same verse is repeated, each time with one fewer bottle. The song is completed when the singer or singers reach zero.\n",
    "\n",
    "Your task here is to write a Python program capable of generating all the verses of the song.\n",
    "\n"
   ]
  },
  {
   "cell_type": "code",
   "execution_count": 148,
   "metadata": {
    "scrolled": true
   },
   "outputs": [
    {
     "name": "stdout",
     "output_type": "stream",
     "text": [
      "99 bottles of beer on the wall, 99 bottles of beer. Take one down, pass it around, 98 bottles of beer on the wall.\n",
      "98 bottles of beer on the wall, 98 bottles of beer. Take one down, pass it around, 97 bottles of beer on the wall.\n",
      "97 bottles of beer on the wall, 97 bottles of beer. Take one down, pass it around, 96 bottles of beer on the wall.\n",
      "96 bottles of beer on the wall, 96 bottles of beer. Take one down, pass it around, 95 bottles of beer on the wall.\n",
      "95 bottles of beer on the wall, 95 bottles of beer. Take one down, pass it around, 94 bottles of beer on the wall.\n",
      "94 bottles of beer on the wall, 94 bottles of beer. Take one down, pass it around, 93 bottles of beer on the wall.\n",
      "93 bottles of beer on the wall, 93 bottles of beer. Take one down, pass it around, 92 bottles of beer on the wall.\n",
      "92 bottles of beer on the wall, 92 bottles of beer. Take one down, pass it around, 91 bottles of beer on the wall.\n",
      "91 bottles of beer on the wall, 91 bottles of beer. Take one down, pass it around, 90 bottles of beer on the wall.\n",
      "90 bottles of beer on the wall, 90 bottles of beer. Take one down, pass it around, 89 bottles of beer on the wall.\n",
      "89 bottles of beer on the wall, 89 bottles of beer. Take one down, pass it around, 88 bottles of beer on the wall.\n",
      "88 bottles of beer on the wall, 88 bottles of beer. Take one down, pass it around, 87 bottles of beer on the wall.\n",
      "87 bottles of beer on the wall, 87 bottles of beer. Take one down, pass it around, 86 bottles of beer on the wall.\n",
      "86 bottles of beer on the wall, 86 bottles of beer. Take one down, pass it around, 85 bottles of beer on the wall.\n",
      "85 bottles of beer on the wall, 85 bottles of beer. Take one down, pass it around, 84 bottles of beer on the wall.\n",
      "84 bottles of beer on the wall, 84 bottles of beer. Take one down, pass it around, 83 bottles of beer on the wall.\n",
      "83 bottles of beer on the wall, 83 bottles of beer. Take one down, pass it around, 82 bottles of beer on the wall.\n",
      "82 bottles of beer on the wall, 82 bottles of beer. Take one down, pass it around, 81 bottles of beer on the wall.\n",
      "81 bottles of beer on the wall, 81 bottles of beer. Take one down, pass it around, 80 bottles of beer on the wall.\n",
      "80 bottles of beer on the wall, 80 bottles of beer. Take one down, pass it around, 79 bottles of beer on the wall.\n",
      "79 bottles of beer on the wall, 79 bottles of beer. Take one down, pass it around, 78 bottles of beer on the wall.\n",
      "78 bottles of beer on the wall, 78 bottles of beer. Take one down, pass it around, 77 bottles of beer on the wall.\n",
      "77 bottles of beer on the wall, 77 bottles of beer. Take one down, pass it around, 76 bottles of beer on the wall.\n",
      "76 bottles of beer on the wall, 76 bottles of beer. Take one down, pass it around, 75 bottles of beer on the wall.\n",
      "75 bottles of beer on the wall, 75 bottles of beer. Take one down, pass it around, 74 bottles of beer on the wall.\n",
      "74 bottles of beer on the wall, 74 bottles of beer. Take one down, pass it around, 73 bottles of beer on the wall.\n",
      "73 bottles of beer on the wall, 73 bottles of beer. Take one down, pass it around, 72 bottles of beer on the wall.\n",
      "72 bottles of beer on the wall, 72 bottles of beer. Take one down, pass it around, 71 bottles of beer on the wall.\n",
      "71 bottles of beer on the wall, 71 bottles of beer. Take one down, pass it around, 70 bottles of beer on the wall.\n",
      "70 bottles of beer on the wall, 70 bottles of beer. Take one down, pass it around, 69 bottles of beer on the wall.\n",
      "69 bottles of beer on the wall, 69 bottles of beer. Take one down, pass it around, 68 bottles of beer on the wall.\n",
      "68 bottles of beer on the wall, 68 bottles of beer. Take one down, pass it around, 67 bottles of beer on the wall.\n",
      "67 bottles of beer on the wall, 67 bottles of beer. Take one down, pass it around, 66 bottles of beer on the wall.\n",
      "66 bottles of beer on the wall, 66 bottles of beer. Take one down, pass it around, 65 bottles of beer on the wall.\n",
      "65 bottles of beer on the wall, 65 bottles of beer. Take one down, pass it around, 64 bottles of beer on the wall.\n",
      "64 bottles of beer on the wall, 64 bottles of beer. Take one down, pass it around, 63 bottles of beer on the wall.\n",
      "63 bottles of beer on the wall, 63 bottles of beer. Take one down, pass it around, 62 bottles of beer on the wall.\n",
      "62 bottles of beer on the wall, 62 bottles of beer. Take one down, pass it around, 61 bottles of beer on the wall.\n",
      "61 bottles of beer on the wall, 61 bottles of beer. Take one down, pass it around, 60 bottles of beer on the wall.\n",
      "60 bottles of beer on the wall, 60 bottles of beer. Take one down, pass it around, 59 bottles of beer on the wall.\n",
      "59 bottles of beer on the wall, 59 bottles of beer. Take one down, pass it around, 58 bottles of beer on the wall.\n",
      "58 bottles of beer on the wall, 58 bottles of beer. Take one down, pass it around, 57 bottles of beer on the wall.\n",
      "57 bottles of beer on the wall, 57 bottles of beer. Take one down, pass it around, 56 bottles of beer on the wall.\n",
      "56 bottles of beer on the wall, 56 bottles of beer. Take one down, pass it around, 55 bottles of beer on the wall.\n",
      "55 bottles of beer on the wall, 55 bottles of beer. Take one down, pass it around, 54 bottles of beer on the wall.\n",
      "54 bottles of beer on the wall, 54 bottles of beer. Take one down, pass it around, 53 bottles of beer on the wall.\n",
      "53 bottles of beer on the wall, 53 bottles of beer. Take one down, pass it around, 52 bottles of beer on the wall.\n",
      "52 bottles of beer on the wall, 52 bottles of beer. Take one down, pass it around, 51 bottles of beer on the wall.\n",
      "51 bottles of beer on the wall, 51 bottles of beer. Take one down, pass it around, 50 bottles of beer on the wall.\n",
      "50 bottles of beer on the wall, 50 bottles of beer. Take one down, pass it around, 49 bottles of beer on the wall.\n",
      "49 bottles of beer on the wall, 49 bottles of beer. Take one down, pass it around, 48 bottles of beer on the wall.\n",
      "48 bottles of beer on the wall, 48 bottles of beer. Take one down, pass it around, 47 bottles of beer on the wall.\n",
      "47 bottles of beer on the wall, 47 bottles of beer. Take one down, pass it around, 46 bottles of beer on the wall.\n",
      "46 bottles of beer on the wall, 46 bottles of beer. Take one down, pass it around, 45 bottles of beer on the wall.\n",
      "45 bottles of beer on the wall, 45 bottles of beer. Take one down, pass it around, 44 bottles of beer on the wall.\n",
      "44 bottles of beer on the wall, 44 bottles of beer. Take one down, pass it around, 43 bottles of beer on the wall.\n",
      "43 bottles of beer on the wall, 43 bottles of beer. Take one down, pass it around, 42 bottles of beer on the wall.\n",
      "42 bottles of beer on the wall, 42 bottles of beer. Take one down, pass it around, 41 bottles of beer on the wall.\n",
      "41 bottles of beer on the wall, 41 bottles of beer. Take one down, pass it around, 40 bottles of beer on the wall.\n",
      "40 bottles of beer on the wall, 40 bottles of beer. Take one down, pass it around, 39 bottles of beer on the wall.\n",
      "39 bottles of beer on the wall, 39 bottles of beer. Take one down, pass it around, 38 bottles of beer on the wall.\n",
      "38 bottles of beer on the wall, 38 bottles of beer. Take one down, pass it around, 37 bottles of beer on the wall.\n",
      "37 bottles of beer on the wall, 37 bottles of beer. Take one down, pass it around, 36 bottles of beer on the wall.\n",
      "36 bottles of beer on the wall, 36 bottles of beer. Take one down, pass it around, 35 bottles of beer on the wall.\n",
      "35 bottles of beer on the wall, 35 bottles of beer. Take one down, pass it around, 34 bottles of beer on the wall.\n",
      "34 bottles of beer on the wall, 34 bottles of beer. Take one down, pass it around, 33 bottles of beer on the wall.\n",
      "33 bottles of beer on the wall, 33 bottles of beer. Take one down, pass it around, 32 bottles of beer on the wall.\n",
      "32 bottles of beer on the wall, 32 bottles of beer. Take one down, pass it around, 31 bottles of beer on the wall.\n",
      "31 bottles of beer on the wall, 31 bottles of beer. Take one down, pass it around, 30 bottles of beer on the wall.\n",
      "30 bottles of beer on the wall, 30 bottles of beer. Take one down, pass it around, 29 bottles of beer on the wall.\n",
      "29 bottles of beer on the wall, 29 bottles of beer. Take one down, pass it around, 28 bottles of beer on the wall.\n",
      "28 bottles of beer on the wall, 28 bottles of beer. Take one down, pass it around, 27 bottles of beer on the wall.\n",
      "27 bottles of beer on the wall, 27 bottles of beer. Take one down, pass it around, 26 bottles of beer on the wall.\n",
      "26 bottles of beer on the wall, 26 bottles of beer. Take one down, pass it around, 25 bottles of beer on the wall.\n",
      "25 bottles of beer on the wall, 25 bottles of beer. Take one down, pass it around, 24 bottles of beer on the wall.\n",
      "24 bottles of beer on the wall, 24 bottles of beer. Take one down, pass it around, 23 bottles of beer on the wall.\n",
      "23 bottles of beer on the wall, 23 bottles of beer. Take one down, pass it around, 22 bottles of beer on the wall.\n",
      "22 bottles of beer on the wall, 22 bottles of beer. Take one down, pass it around, 21 bottles of beer on the wall.\n",
      "21 bottles of beer on the wall, 21 bottles of beer. Take one down, pass it around, 20 bottles of beer on the wall.\n",
      "20 bottles of beer on the wall, 20 bottles of beer. Take one down, pass it around, 19 bottles of beer on the wall.\n",
      "19 bottles of beer on the wall, 19 bottles of beer. Take one down, pass it around, 18 bottles of beer on the wall.\n",
      "18 bottles of beer on the wall, 18 bottles of beer. Take one down, pass it around, 17 bottles of beer on the wall.\n",
      "17 bottles of beer on the wall, 17 bottles of beer. Take one down, pass it around, 16 bottles of beer on the wall.\n",
      "16 bottles of beer on the wall, 16 bottles of beer. Take one down, pass it around, 15 bottles of beer on the wall.\n",
      "15 bottles of beer on the wall, 15 bottles of beer. Take one down, pass it around, 14 bottles of beer on the wall.\n",
      "14 bottles of beer on the wall, 14 bottles of beer. Take one down, pass it around, 13 bottles of beer on the wall.\n",
      "13 bottles of beer on the wall, 13 bottles of beer. Take one down, pass it around, 12 bottles of beer on the wall.\n",
      "12 bottles of beer on the wall, 12 bottles of beer. Take one down, pass it around, 11 bottles of beer on the wall.\n",
      "11 bottles of beer on the wall, 11 bottles of beer. Take one down, pass it around, 10 bottles of beer on the wall.\n",
      "10 bottles of beer on the wall, 10 bottles of beer. Take one down, pass it around,  9 bottles of beer on the wall.\n",
      " 9 bottles of beer on the wall,  9 bottles of beer. Take one down, pass it around,  8 bottles of beer on the wall.\n",
      " 8 bottles of beer on the wall,  8 bottles of beer. Take one down, pass it around,  7 bottles of beer on the wall.\n",
      " 7 bottles of beer on the wall,  7 bottles of beer. Take one down, pass it around,  6 bottles of beer on the wall.\n",
      " 6 bottles of beer on the wall,  6 bottles of beer. Take one down, pass it around,  5 bottles of beer on the wall.\n",
      " 5 bottles of beer on the wall,  5 bottles of beer. Take one down, pass it around,  4 bottles of beer on the wall.\n",
      " 4 bottles of beer on the wall,  4 bottles of beer. Take one down, pass it around,  3 bottles of beer on the wall.\n",
      " 3 bottles of beer on the wall,  3 bottles of beer. Take one down, pass it around,  2 bottles of beer on the wall.\n",
      " 2 bottles of beer on the wall,  2 bottles of beer. Take one down, pass it around,  1 bottle of beer on the wall.\n",
      " 1 bottle of beer on the wall,  1 bottle of beer. Take one down, pass it around,  0 bottles of beer on the wall.\n"
     ]
    }
   ],
   "source": [
    "interger_list=list(range(1,100))\n",
    "interger_list.reverse()\n",
    "for i in interger_list:\n",
    "    if i-1>1:\n",
    "        print(\"{:2} bottles of beer on the wall, {:2} bottles of beer. Take one down, pass it around, {:2} bottles of beer on the wall.\".format(i,i,i-1))\n",
    "    elif i-1 == 1:\n",
    "        print(\"{:2} bottles of beer on the wall, {:2} bottles of beer. Take one down, pass it around, {:2} bottle of beer on the wall.\".format(i,i,i-1))\n",
    "    elif i-1==0:\n",
    "        print(\"{:2} bottle of beer on the wall, {:2} bottle of beer. Take one down, pass it around, {:2} bottles of beer on the wall.\".format(i,i,i-1))\n",
    "        "
   ]
  },
  {
   "cell_type": "markdown",
   "metadata": {},
   "source": [
    "Extension: making the numbers words"
   ]
  },
  {
   "cell_type": "code",
   "execution_count": 149,
   "metadata": {},
   "outputs": [
    {
     "name": "stdout",
     "output_type": "stream",
     "text": [
      "Ninety nine bottles of beer on the wall, ninety nine bottles of beer. \n",
      "Take one down, pass it around, ninety eight bottles of beer on the wall.\n",
      "Ninety eight bottles of beer on the wall, ninety eight bottles of beer. \n",
      "Take one down, pass it around, ninety seven bottles of beer on the wall.\n",
      "Ninety seven bottles of beer on the wall, ninety seven bottles of beer. \n",
      "Take one down, pass it around, ninety six bottles of beer on the wall.\n",
      "Ninety six bottles of beer on the wall, ninety six bottles of beer. \n",
      "Take one down, pass it around, ninety five bottles of beer on the wall.\n",
      "Ninety five bottles of beer on the wall, ninety five bottles of beer. \n",
      "Take one down, pass it around, ninety four bottles of beer on the wall.\n",
      "Ninety four bottles of beer on the wall, ninety four bottles of beer. \n",
      "Take one down, pass it around, ninety three bottles of beer on the wall.\n",
      "Ninety three bottles of beer on the wall, ninety three bottles of beer. \n",
      "Take one down, pass it around, ninety two bottles of beer on the wall.\n",
      "Ninety two bottles of beer on the wall, ninety two bottles of beer. \n",
      "Take one down, pass it around, ninety one bottles of beer on the wall.\n",
      "Ninety one bottles of beer on the wall, ninety one bottles of beer. \n",
      "Take one down, pass it around, ninety bottles of beer on the wall.\n",
      "Ninety bottles of beer on the wall, ninety bottles of beer. \n",
      "Take one down, pass it around, eighty nine bottles of beer on the wall.\n",
      "Eighty nine bottles of beer on the wall, eighty nine bottles of beer. \n",
      "Take one down, pass it around, eighty eight bottles of beer on the wall.\n",
      "Eighty eight bottles of beer on the wall, eighty eight bottles of beer. \n",
      "Take one down, pass it around, eighty seven bottles of beer on the wall.\n",
      "Eighty seven bottles of beer on the wall, eighty seven bottles of beer. \n",
      "Take one down, pass it around, eighty six bottles of beer on the wall.\n",
      "Eighty six bottles of beer on the wall, eighty six bottles of beer. \n",
      "Take one down, pass it around, eighty five bottles of beer on the wall.\n",
      "Eighty five bottles of beer on the wall, eighty five bottles of beer. \n",
      "Take one down, pass it around, eighty four bottles of beer on the wall.\n",
      "Eighty four bottles of beer on the wall, eighty four bottles of beer. \n",
      "Take one down, pass it around, eighty three bottles of beer on the wall.\n",
      "Eighty three bottles of beer on the wall, eighty three bottles of beer. \n",
      "Take one down, pass it around, eighty two bottles of beer on the wall.\n",
      "Eighty two bottles of beer on the wall, eighty two bottles of beer. \n",
      "Take one down, pass it around, eighty one bottles of beer on the wall.\n",
      "Eighty one bottles of beer on the wall, eighty one bottles of beer. \n",
      "Take one down, pass it around, eighty bottles of beer on the wall.\n",
      "Eighty bottles of beer on the wall, eighty bottles of beer. \n",
      "Take one down, pass it around, seventy nine bottles of beer on the wall.\n",
      "Seventy nine bottles of beer on the wall, seventy nine bottles of beer. \n",
      "Take one down, pass it around, seventy eight bottles of beer on the wall.\n",
      "Seventy eight bottles of beer on the wall, seventy eight bottles of beer. \n",
      "Take one down, pass it around, seventy seven bottles of beer on the wall.\n",
      "Seventy seven bottles of beer on the wall, seventy seven bottles of beer. \n",
      "Take one down, pass it around, seventy six bottles of beer on the wall.\n",
      "Seventy six bottles of beer on the wall, seventy six bottles of beer. \n",
      "Take one down, pass it around, seventy five bottles of beer on the wall.\n",
      "Seventy five bottles of beer on the wall, seventy five bottles of beer. \n",
      "Take one down, pass it around, seventy four bottles of beer on the wall.\n",
      "Seventy four bottles of beer on the wall, seventy four bottles of beer. \n",
      "Take one down, pass it around, seventy three bottles of beer on the wall.\n",
      "Seventy three bottles of beer on the wall, seventy three bottles of beer. \n",
      "Take one down, pass it around, seventy two bottles of beer on the wall.\n",
      "Seventy two bottles of beer on the wall, seventy two bottles of beer. \n",
      "Take one down, pass it around, seventy one bottles of beer on the wall.\n",
      "Seventy one bottles of beer on the wall, seventy one bottles of beer. \n",
      "Take one down, pass it around, seventy bottles of beer on the wall.\n",
      "Seventy bottles of beer on the wall, seventy bottles of beer. \n",
      "Take one down, pass it around, sixty nine bottles of beer on the wall.\n",
      "Sixty nine bottles of beer on the wall, sixty nine bottles of beer. \n",
      "Take one down, pass it around, sixty eight bottles of beer on the wall.\n",
      "Sixty eight bottles of beer on the wall, sixty eight bottles of beer. \n",
      "Take one down, pass it around, sixty seven bottles of beer on the wall.\n",
      "Sixty seven bottles of beer on the wall, sixty seven bottles of beer. \n",
      "Take one down, pass it around, sixty six bottles of beer on the wall.\n",
      "Sixty six bottles of beer on the wall, sixty six bottles of beer. \n",
      "Take one down, pass it around, sixty five bottles of beer on the wall.\n",
      "Sixty five bottles of beer on the wall, sixty five bottles of beer. \n",
      "Take one down, pass it around, sixty four bottles of beer on the wall.\n",
      "Sixty four bottles of beer on the wall, sixty four bottles of beer. \n",
      "Take one down, pass it around, sixty three bottles of beer on the wall.\n",
      "Sixty three bottles of beer on the wall, sixty three bottles of beer. \n",
      "Take one down, pass it around, sixty two bottles of beer on the wall.\n",
      "Sixty two bottles of beer on the wall, sixty two bottles of beer. \n",
      "Take one down, pass it around, sixty one bottles of beer on the wall.\n",
      "Sixty one bottles of beer on the wall, sixty one bottles of beer. \n",
      "Take one down, pass it around, sixty bottles of beer on the wall.\n",
      "Sixty bottles of beer on the wall, sixty bottles of beer. \n",
      "Take one down, pass it around, fifty nine bottles of beer on the wall.\n",
      "Fifty nine bottles of beer on the wall, fifty nine bottles of beer. \n",
      "Take one down, pass it around, fifty eight bottles of beer on the wall.\n",
      "Fifty eight bottles of beer on the wall, fifty eight bottles of beer. \n",
      "Take one down, pass it around, fifty seven bottles of beer on the wall.\n",
      "Fifty seven bottles of beer on the wall, fifty seven bottles of beer. \n",
      "Take one down, pass it around, fifty six bottles of beer on the wall.\n",
      "Fifty six bottles of beer on the wall, fifty six bottles of beer. \n",
      "Take one down, pass it around, fifty five bottles of beer on the wall.\n",
      "Fifty five bottles of beer on the wall, fifty five bottles of beer. \n",
      "Take one down, pass it around, fifty four bottles of beer on the wall.\n",
      "Fifty four bottles of beer on the wall, fifty four bottles of beer. \n",
      "Take one down, pass it around, fifty three bottles of beer on the wall.\n",
      "Fifty three bottles of beer on the wall, fifty three bottles of beer. \n",
      "Take one down, pass it around, fifty two bottles of beer on the wall.\n",
      "Fifty two bottles of beer on the wall, fifty two bottles of beer. \n",
      "Take one down, pass it around, fifty one bottles of beer on the wall.\n",
      "Fifty one bottles of beer on the wall, fifty one bottles of beer. \n",
      "Take one down, pass it around, fifty bottles of beer on the wall.\n",
      "Fifty bottles of beer on the wall, fifty bottles of beer. \n",
      "Take one down, pass it around, fourty nine bottles of beer on the wall.\n",
      "Fourty nine bottles of beer on the wall, fourty nine bottles of beer. \n",
      "Take one down, pass it around, fourty eight bottles of beer on the wall.\n",
      "Fourty eight bottles of beer on the wall, fourty eight bottles of beer. \n",
      "Take one down, pass it around, fourty seven bottles of beer on the wall.\n",
      "Fourty seven bottles of beer on the wall, fourty seven bottles of beer. \n",
      "Take one down, pass it around, fourty six bottles of beer on the wall.\n",
      "Fourty six bottles of beer on the wall, fourty six bottles of beer. \n",
      "Take one down, pass it around, fourty five bottles of beer on the wall.\n",
      "Fourty five bottles of beer on the wall, fourty five bottles of beer. \n",
      "Take one down, pass it around, fourty four bottles of beer on the wall.\n",
      "Fourty four bottles of beer on the wall, fourty four bottles of beer. \n",
      "Take one down, pass it around, fourty three bottles of beer on the wall.\n",
      "Fourty three bottles of beer on the wall, fourty three bottles of beer. \n",
      "Take one down, pass it around, fourty two bottles of beer on the wall.\n",
      "Fourty two bottles of beer on the wall, fourty two bottles of beer. \n",
      "Take one down, pass it around, fourty one bottles of beer on the wall.\n",
      "Fourty one bottles of beer on the wall, fourty one bottles of beer. \n",
      "Take one down, pass it around, fourty bottles of beer on the wall.\n",
      "Fourty bottles of beer on the wall, fourty bottles of beer. \n",
      "Take one down, pass it around, thirty nine bottles of beer on the wall.\n",
      "Thirty nine bottles of beer on the wall, thirty nine bottles of beer. \n",
      "Take one down, pass it around, thirty eight bottles of beer on the wall.\n",
      "Thirty eight bottles of beer on the wall, thirty eight bottles of beer. \n",
      "Take one down, pass it around, thirty seven bottles of beer on the wall.\n",
      "Thirty seven bottles of beer on the wall, thirty seven bottles of beer. \n",
      "Take one down, pass it around, thirty six bottles of beer on the wall.\n",
      "Thirty six bottles of beer on the wall, thirty six bottles of beer. \n",
      "Take one down, pass it around, thirty five bottles of beer on the wall.\n",
      "Thirty five bottles of beer on the wall, thirty five bottles of beer. \n",
      "Take one down, pass it around, thirty four bottles of beer on the wall.\n",
      "Thirty four bottles of beer on the wall, thirty four bottles of beer. \n",
      "Take one down, pass it around, thirty three bottles of beer on the wall.\n",
      "Thirty three bottles of beer on the wall, thirty three bottles of beer. \n",
      "Take one down, pass it around, thirty two bottles of beer on the wall.\n",
      "Thirty two bottles of beer on the wall, thirty two bottles of beer. \n",
      "Take one down, pass it around, thirty one bottles of beer on the wall.\n",
      "Thirty one bottles of beer on the wall, thirty one bottles of beer. \n",
      "Take one down, pass it around, thirty bottles of beer on the wall.\n",
      "Thirty bottles of beer on the wall, thirty bottles of beer. \n",
      "Take one down, pass it around, twenty nine bottles of beer on the wall.\n",
      "Twenty nine bottles of beer on the wall, twenty nine bottles of beer. \n",
      "Take one down, pass it around, twenty eight bottles of beer on the wall.\n",
      "Twenty eight bottles of beer on the wall, twenty eight bottles of beer. \n",
      "Take one down, pass it around, twenty seven bottles of beer on the wall.\n",
      "Twenty seven bottles of beer on the wall, twenty seven bottles of beer. \n",
      "Take one down, pass it around, twenty six bottles of beer on the wall.\n",
      "Twenty six bottles of beer on the wall, twenty six bottles of beer. \n",
      "Take one down, pass it around, twenty five bottles of beer on the wall.\n",
      "Twenty five bottles of beer on the wall, twenty five bottles of beer. \n",
      "Take one down, pass it around, twenty four bottles of beer on the wall.\n",
      "Twenty four bottles of beer on the wall, twenty four bottles of beer. \n",
      "Take one down, pass it around, twenty three bottles of beer on the wall.\n",
      "Twenty three bottles of beer on the wall, twenty three bottles of beer. \n",
      "Take one down, pass it around, twenty two bottles of beer on the wall.\n",
      "Twenty two bottles of beer on the wall, twenty two bottles of beer. \n",
      "Take one down, pass it around, twenty one bottles of beer on the wall.\n",
      "Twenty one bottles of beer on the wall, twenty one bottles of beer. \n",
      "Take one down, pass it around, twenty bottles of beer on the wall.\n",
      "Twenty bottles of beer on the wall, twenty bottles of beer. \n",
      "Take one down, pass it around, nineteen bottles of beer on the wall.\n",
      "Nineteen bottles of beer on the wall, nineteen bottles of beer. \n",
      "Take one down, pass it around, eighteen bottles of beer on the wall.\n",
      "Eighteen bottles of beer on the wall, eighteen bottles of beer. \n",
      "Take one down, pass it around, seventeen bottles of beer on the wall.\n",
      "Seventeen bottles of beer on the wall, seventeen bottles of beer. \n",
      "Take one down, pass it around, sixteen bottles of beer on the wall.\n",
      "Sixteen bottles of beer on the wall, sixteen bottles of beer. \n",
      "Take one down, pass it around, fifteen bottles of beer on the wall.\n",
      "Fifteen bottles of beer on the wall, fifteen bottles of beer. \n",
      "Take one down, pass it around, fourteen bottles of beer on the wall.\n",
      "Fourteen bottles of beer on the wall, fourteen bottles of beer. \n",
      "Take one down, pass it around, thirteen bottles of beer on the wall.\n",
      "Thirteen bottles of beer on the wall, thirteen bottles of beer. \n",
      "Take one down, pass it around, twelve bottles of beer on the wall.\n",
      "Twelve bottles of beer on the wall, twelve bottles of beer. \n",
      "Take one down, pass it around, eleven bottles of beer on the wall.\n",
      "Eleven bottles of beer on the wall, eleven bottles of beer. \n",
      "Take one down, pass it around, ten bottles of beer on the wall.\n",
      "Ten bottles of beer on the wall, ten bottles of beer. \n",
      "Take one down, pass it around, nine bottles of beer on the wall.\n",
      "Nine bottles of beer on the wall, nine bottles of beer. \n",
      "Take one down, pass it around, eight bottles of beer on the wall.\n",
      "Eight bottles of beer on the wall, eight bottles of beer. \n",
      "Take one down, pass it around, seven bottles of beer on the wall.\n",
      "Seven bottles of beer on the wall, seven bottles of beer. \n",
      "Take one down, pass it around, six bottles of beer on the wall.\n",
      "Six bottles of beer on the wall, six bottles of beer. \n",
      "Take one down, pass it around, five bottles of beer on the wall.\n",
      "Five bottles of beer on the wall, five bottles of beer. \n",
      "Take one down, pass it around, four bottles of beer on the wall.\n",
      "Four bottles of beer on the wall, four bottles of beer. \n",
      "Take one down, pass it around, three bottles of beer on the wall.\n",
      "Three bottles of beer on the wall, three bottles of beer. \n",
      "Take one down, pass it around, two bottles of beer on the wall.\n",
      "Two bottles of beer on the wall, two bottles of beer. \n",
      "Take one down, pass it around, one bottle of beer on the wall.\n",
      "One bottle of beer on the wall, one bottle of beer. \n",
      "Take one down, pass it around, there are no bottles of beer on the wall.\n"
     ]
    }
   ],
   "source": [
    "unit_dict={1:'one',\n",
    "           2:'two',\n",
    "           3:'three',\n",
    "           4:'four',\n",
    "           5:'five',\n",
    "           6:'six',\n",
    "           7:'seven',\n",
    "           8:'eight',\n",
    "           9:'nine',\n",
    "           0:'zero',\n",
    "           10:'ten',\n",
    "           11:'eleven',\n",
    "           12:'twelve',\n",
    "           13:'thirteen',\n",
    "           14:'fourteen',\n",
    "           15:'fifteen',\n",
    "           16:'sixteen',\n",
    "           17:'seventeen',\n",
    "           18:'eighteen',\n",
    "           19:'nineteen',}\n",
    "\n",
    "other_teens_dict={2:'twenty', \n",
    "                  3:'thirty', \n",
    "                  4:'fourty', \n",
    "                  5:'fifty',\n",
    "                 6:'sixty',\n",
    "                 7:'seventy',\n",
    "                 8:'eighty',\n",
    "                 9:'ninety',}\n",
    "\n",
    "\n",
    "\n",
    "interger_list=list(range(1,100))\n",
    "interger_list.reverse()\n",
    "for i in interger_list:\n",
    "    if int(i/10)<2:\n",
    "        #print(\"yes\")\n",
    "        string1=unit_dict.get(i)\n",
    "    else:       \n",
    "        if i%10==0:\n",
    "            string1=other_teens_dict.get(int(i/10))\n",
    "        else:\n",
    "            string1=other_teens_dict.get(int(i/10)) + \" \" + unit_dict.get(i%10)\n",
    "    \n",
    "    if int((i-1)/10)<2:\n",
    "        string2=unit_dict.get(i-1)\n",
    "    else:       \n",
    "        if (i-1)%10==0:\n",
    "            string2=other_teens_dict.get(int((i-1)/10))\n",
    "        else:\n",
    "            string2=other_teens_dict.get(int((i-1)/10)) + \" \" + unit_dict.get((i-1)%10)\n",
    "    if i==2:\n",
    "        print(\"{} bottles of beer on the wall, {} bottles of beer. \\nTake one down, pass it around, {} bottle of beer on the wall.\".format(string1.capitalize(),string1,string2))\n",
    "    elif i==1:\n",
    "        print(\"{} bottle of beer on the wall, {} bottle of beer. \\nTake one down, pass it around, there are no bottles of beer on the wall.\".format(string1.capitalize(),string1))\n",
    "    else:\n",
    "        print(\"{} bottles of beer on the wall, {} bottles of beer. \\nTake one down, pass it around, {} bottles of beer on the wall.\".format(string1.capitalize(),string1,string2))\n",
    "   "
   ]
  },
  {
   "cell_type": "markdown",
   "metadata": {},
   "source": [
    "Ex 20: Represent a small bilingual lexicon as a Python dictionary in the following fashion ```{\"merry\":\"god\", \"christmas\":\"jul\", \"and\":\"och\", \"happy\":\"gott\", \"new\":\"nytt\", \"year\":\"år\"}``` and use it to translate your Christmas cards from English into Swedish. That is, write a function ```translate()``` that takes a list of English words and returns a list of Swedish words."
   ]
  },
  {
   "cell_type": "code",
   "execution_count": 152,
   "metadata": {},
   "outputs": [],
   "source": [
    "def translate(list_of_english_words):\n",
    "    dictionary={\"merry\":\"god\", \"christmas\":\"jul\", \"and\":\"och\", \"happy\":\"gott\", \"new\":\"nytt\", \"year\":\"år\"} \n",
    "    list_of_swedish_words=[]\n",
    "    for word in list_of_english_words:\n",
    "        #not can use get or index, I will use get and state word not in dictionary\n",
    "        list_of_swedish_words.append(dictionary.get(word,\"word not in dictionary\"))\n",
    "    return list_of_swedish_words"
   ]
  },
  {
   "cell_type": "code",
   "execution_count": 153,
   "metadata": {},
   "outputs": [
    {
     "data": {
      "text/plain": [
       "['god', 'jul', 'och', 'gott', 'nytt', 'år', 'word not in dictionary']"
      ]
     },
     "execution_count": 153,
     "metadata": {},
     "output_type": "execute_result"
    }
   ],
   "source": [
    "translate([\"merry\",\"christmas\",\"and\",\"happy\",\"new\",\"year\",\"folks\"])"
   ]
  },
  {
   "cell_type": "markdown",
   "metadata": {},
   "source": [
    "Ex 21: Write a function ```char_freq()``` that takes a string and builds a frequency listing of the characters contained in it. Represent the frequency listing as a Python dictionary. "
   ]
  },
  {
   "cell_type": "code",
   "execution_count": 161,
   "metadata": {},
   "outputs": [],
   "source": [
    "def char_freq(string):\n",
    "    string=string.lower()\n",
    "    alphabet=\"abcdefghijklmnopqrstuvwxyz\"\n",
    "    dictionary={}\n",
    "    for letter in alphabet:\n",
    "        dictionary[letter]=string.count(letter)\n",
    "    return dictionary"
   ]
  },
  {
   "cell_type": "markdown",
   "metadata": {},
   "source": [
    "Ex 22: In cryptography, a Caesar cipher is a very simple encryption techniques in which each letter in the plain text is replaced by a letter some fixed number of positions down the alphabet. For example, with a shift of 3, A would be replaced by D, B would become E, and so on. The method is named after Julius Caesar, who used it to communicate with his generals. ROT-13 (\"rotate by 13 places\") is a widely used example of a Caesar cipher where the shift is 13. In Python, the key for ROT-13 may be represented by means of the following dictionary:\n",
    "\n",
    "```\n",
    "key = {'a':'n', 'b':'o', 'c':'p', 'd':'q', 'e':'r', 'f':'s', 'g':'t', 'h':'u', \n",
    "       'i':'v', 'j':'w', 'k':'x', 'l':'y', 'm':'z', 'n':'a', 'o':'b', 'p':'c', \n",
    "       'q':'d', 'r':'e', 's':'f', 't':'g', 'u':'h', 'v':'i', 'w':'j', 'x':'k',\n",
    "       'y':'l', 'z':'m', 'A':'N', 'B':'O', 'C':'P', 'D':'Q', 'E':'R', 'F':'S', \n",
    "       'G':'T', 'H':'U', 'I':'V', 'J':'W', 'K':'X', 'L':'Y', 'M':'Z', 'N':'A', \n",
    "       'O':'B', 'P':'C', 'Q':'D', 'R':'E', 'S':'F', 'T':'G', 'U':'H', 'V':'I', \n",
    "       'W':'J', 'X':'K', 'Y':'L', 'Z':'M'}\n",
    "```\n",
    "\n",
    "Your task in this exercise is to implement an encoder/decoder of ROT-13. Once you're done, you will be able to read the following secret message:\n",
    "\n",
    "   ```Pnrfne pvcure? V zhpu cersre Pnrfne fnynq!```\n",
    "   \n",
    "Note that since English has 26 characters, your ROT-13 program will be able to both encode and decode texts written in English."
   ]
  },
  {
   "cell_type": "code",
   "execution_count": 163,
   "metadata": {},
   "outputs": [
    {
     "name": "stdout",
     "output_type": "stream",
     "text": [
      "Caesar cipher? I much prefer Caesar salad!\n"
     ]
    }
   ],
   "source": [
    "key = {'a':'n', 'b':'o', 'c':'p', 'd':'q', 'e':'r', 'f':'s', 'g':'t', 'h':'u', \n",
    "       'i':'v', 'j':'w', 'k':'x', 'l':'y', 'm':'z', 'n':'a', 'o':'b', 'p':'c', \n",
    "       'q':'d', 'r':'e', 's':'f', 't':'g', 'u':'h', 'v':'i', 'w':'j', 'x':'k',\n",
    "       'y':'l', 'z':'m', 'A':'N', 'B':'O', 'C':'P', 'D':'Q', 'E':'R', 'F':'S', \n",
    "       'G':'T', 'H':'U', 'I':'V', 'J':'W', 'K':'X', 'L':'Y', 'M':'Z', 'N':'A', \n",
    "       'O':'B', 'P':'C', 'Q':'D', 'R':'E', 'S':'F', 'T':'G', 'U':'H', 'V':'I', \n",
    "       'W':'J', 'X':'K', 'Y':'L', 'Z':'M',}\n",
    "\n",
    "message=\"Pnrfne pvcure? V zhpu cersre Pnrfne fnynq!\"\n",
    "outputlist=[]\n",
    "for word in message.split():\n",
    "    outputword=\"\"\n",
    "    for character in word:\n",
    "        #print(character)\n",
    "        #print(key.get(character))\n",
    "        if character not in key.keys():\n",
    "            outputword=outputword+character\n",
    "        else:\n",
    "            outputword=outputword+key.get(character)\n",
    "        \n",
    "    outputlist.append(outputword)\n",
    "\n",
    "output_message=\" \".join(outputlist)\n",
    "print(output_message)"
   ]
  },
  {
   "cell_type": "markdown",
   "metadata": {},
   "source": [
    "Ex 23: Define a simple \"spelling correction\" function ```correct()``` that takes a string and sees to it that 1) two or more occurrences of the space character is compressed into one, and 2) inserts an extra space after a period if the period is directly followed by a letter. E.g. ```correct(\"This     is very funny    and    cool.Indeed!\")``` should return ```\"This is very funny and cool. Indeed!\" ```"
   ]
  },
  {
   "cell_type": "code",
   "execution_count": 193,
   "metadata": {},
   "outputs": [],
   "source": [
    "import re\n",
    "def correct(sentence):\n",
    "    compress_white_space=re.compile(r\"\\s{2,}\")\n",
    "    space_after_full_stop_before_letter=re.compile(r\"\\.[A-za-z]\")\n",
    "    sentence=compress_white_space.sub(\" \",sentence)\n",
    "    a=space_after_full_stop_before_letter.search(sentence)\n",
    "    output=\"\"\n",
    "    for char in a.group():\n",
    "        output=output+char\n",
    "        if char==\".\":\n",
    "            output=output+\" \"\n",
    "\n",
    "    return space_after_full_stop_before_letter.sub(output,sentence)\n",
    "\n",
    "\n",
    "    "
   ]
  },
  {
   "cell_type": "code",
   "execution_count": 194,
   "metadata": {},
   "outputs": [
    {
     "data": {
      "text/plain": [
       "'This is very funny and cool. Indeed!'"
      ]
     },
     "execution_count": 194,
     "metadata": {},
     "output_type": "execute_result"
    }
   ],
   "source": [
    "correct(\"This     is very funny    and    cool.Indeed!\")"
   ]
  },
  {
   "cell_type": "markdown",
   "metadata": {},
   "source": [
    "Ex 24: The third person singular verb form in English is distinguished by the suffix ­s, which is added to the stem of the infinitive form: run -> runs. A simple set of rules can be given as follows:\n",
    "1. If the verb ends in y, remove it and add ies \n",
    "2. If the verb ends in o, ch, s, sh, x or z, add es \n",
    "3. By default just add s\n",
    "      \n",
    "Your task in this exercise is to define a function ```make_3sg_form()```which given a verb in infinitive form returns its third person singular form. Test your function with words like try, brush, run and fix. Note however that the rules must be regarded as heuristic, in the sense that you must not expect them to work for all cases. Tip: Check out the string method ```endswith()```."
   ]
  },
  {
   "cell_type": "code",
   "execution_count": 211,
   "metadata": {},
   "outputs": [],
   "source": [
    "def make_3sg_form(infinitive):\n",
    "    if infinitive.endswith(\"y\"):\n",
    "        return infinitive[:-1]+\"ies\"\n",
    "    elif infinitive[-1] in [\"o\",\"s\",\"x\",\"z\"]:\n",
    "        return infinitive+\"es\"\n",
    "    elif infinitive[-2:] in [\"ch\",\"sh\"]:\n",
    "        return infinitive+\"es\"\n",
    "    else:\n",
    "        return infinitive+\"s\"\n",
    "        \n",
    "        \n",
    "    "
   ]
  },
  {
   "cell_type": "code",
   "execution_count": 215,
   "metadata": {},
   "outputs": [
    {
     "data": {
      "text/plain": [
       "'fixes'"
      ]
     },
     "execution_count": 215,
     "metadata": {},
     "output_type": "execute_result"
    }
   ],
   "source": [
    "make_3sg_form(\"fix\")"
   ]
  },
  {
   "cell_type": "markdown",
   "metadata": {},
   "source": [
    "Ex 25: In English, the present participle is formed by adding the suffix -ing to the infinite form: go -> going. A simple set of heuristic rules can be given as follows:\n",
    "1. If the verb ends in e, drop the e and add ing (if not exception: be, see, flee, knee, etc.)\n",
    "2. If the verb ends in ie, change ie to y and add ing\n",
    "3. For words consisting of consonant-vowel-consonant, double the final letter before adding ing \n",
    "4. By default just add ing\n",
    "\n",
    "Your task in this exercise is to define a function ```make_ing_form()```which given a verb in infinitive form returns its present participle form. Test your function with words such as lie, see, move and hug. However, you must not expect such simple rules to work for all cases."
   ]
  },
  {
   "cell_type": "code",
   "execution_count": 229,
   "metadata": {},
   "outputs": [],
   "source": [
    "import re\n",
    "\n",
    "con_vow_con=re.compile(r\"[^aeiou][aeiou][^aeiou]\")\n",
    "\n",
    "def make_ing_form(infinitive):\n",
    "    if infinitive.endswith(\"ie\"):\n",
    "        return infinitive[:-2]+\"ying\"\n",
    "    elif infinitive.endswith(\"e\"):\n",
    "        if infinitive in [\"be\",\"see\",\"flee\",\"knee\"]:\n",
    "            return infinitive +\"ing\"\n",
    "        else:\n",
    "            return infinitive[:-1]+\"ing\"\n",
    "    elif con_vow_con.search(infinitive):\n",
    "        return infinitive+infinitive[-1]+\"ing\"\n",
    "    else:\n",
    "        return infinitive+\"ing\""
   ]
  },
  {
   "cell_type": "code",
   "execution_count": 236,
   "metadata": {},
   "outputs": [
    {
     "data": {
      "text/plain": [
       "'baking'"
      ]
     },
     "execution_count": 236,
     "metadata": {},
     "output_type": "execute_result"
    }
   ],
   "source": [
    "make_ing_form(\"bake\")"
   ]
  },
  {
   "cell_type": "markdown",
   "metadata": {},
   "source": [
    "Ex 26: Using the higher order function ```reduce()```, write a function ```max_in_list()```that takes a list of numbers and returns the largest one. Then ask yourself: why define and call a new function, when I can just as well call the ```reduce()```function directly?\n"
   ]
  },
  {
   "cell_type": "code",
   "execution_count": 237,
   "metadata": {},
   "outputs": [],
   "source": [
    "from functools import reduce\n",
    "def max_in_list(list_of_nums):\n",
    "    def big(x,y):\n",
    "        return x if x>y else y\n",
    "    return reduce(big,list_of_nums)"
   ]
  },
  {
   "cell_type": "code",
   "execution_count": 240,
   "metadata": {},
   "outputs": [],
   "source": [
    "a=[10,2,3,4,5]"
   ]
  },
  {
   "cell_type": "code",
   "execution_count": 241,
   "metadata": {},
   "outputs": [
    {
     "data": {
      "text/plain": [
       "10"
      ]
     },
     "execution_count": 241,
     "metadata": {},
     "output_type": "execute_result"
    }
   ],
   "source": [
    "max_in_list(a)"
   ]
  },
  {
   "cell_type": "markdown",
   "metadata": {},
   "source": [
    "Ex 27: Write a program that maps a list of words into a list of integers representing the lengths of the correponding words. Write it in three different ways: \n",
    "\n",
    "1) using a for loop  \n",
    "2) using the higher order function ```map()```  \n",
    "3) using list comprehensions."
   ]
  },
  {
   "cell_type": "code",
   "execution_count": null,
   "metadata": {},
   "outputs": [],
   "source": [
    "def map_list_of_words_to_list_of_word_length1(list_of_words):\n",
    "    list_of_lengths=[]\n",
    "    for word in list_of_words:\n",
    "        list_of_lengths.append(len(word))\n",
    "    return list_of_lengths"
   ]
  },
  {
   "cell_type": "code",
   "execution_count": 248,
   "metadata": {},
   "outputs": [],
   "source": [
    "def map_list_of_words_to_list_of_word_length2(list_of_words):\n",
    "    return list(map(len,list_of_words))\n",
    "\n"
   ]
  },
  {
   "cell_type": "code",
   "execution_count": 242,
   "metadata": {},
   "outputs": [],
   "source": [
    "def map_list_of_words_to_list_of_word_length3(list_of_words):\n",
    "    return [len(word) for word in list_of_words]\n",
    "   "
   ]
  },
  {
   "cell_type": "markdown",
   "metadata": {},
   "source": [
    "Ex 28: Write a function ```find_longest_word()```that takes a list of words and returns the length of the longest one. Use only higher order functions."
   ]
  },
  {
   "cell_type": "code",
   "execution_count": 250,
   "metadata": {},
   "outputs": [],
   "source": [
    "def find_longest_word(list_of_words):\n",
    "    def bigger_word(x,y):\n",
    "        return x if len(x) > len(y) else y\n",
    "    return reduce(bigger_word,list_of_words)"
   ]
  },
  {
   "cell_type": "code",
   "execution_count": 251,
   "metadata": {},
   "outputs": [
    {
     "data": {
      "text/plain": [
       "'christmas'"
      ]
     },
     "execution_count": 251,
     "metadata": {},
     "output_type": "execute_result"
    }
   ],
   "source": [
    "find_longest_word([\"merry\",\"christmas\",\"and\",\"happy\",\"new\",\"year\",\"folks\"])"
   ]
  },
  {
   "cell_type": "markdown",
   "metadata": {},
   "source": [
    "Ex 29: Using the higher order function ```filter()```, define a function ```filter_long_words()``` that takes a list of words and an integer ```n``` and returns the list of words that are longer than ```n```."
   ]
  },
  {
   "cell_type": "code",
   "execution_count": 258,
   "metadata": {},
   "outputs": [],
   "source": [
    "def filter_long_words2(list_of_words,n):\n",
    "    \n",
    "    def longer_than(x):\n",
    "        if len(x)>n:\n",
    "            return True\n",
    "        else:\n",
    "            return False\n",
    "    \n",
    "    return list(filter(longer_than,list_of_words))"
   ]
  },
  {
   "cell_type": "code",
   "execution_count": 259,
   "metadata": {},
   "outputs": [
    {
     "data": {
      "text/plain": [
       "['merry', 'christmas', 'happy', 'year', 'folks']"
      ]
     },
     "execution_count": 259,
     "metadata": {},
     "output_type": "execute_result"
    }
   ],
   "source": [
    "filter_long_words2([\"merry\",\"christmas\",\"and\",\"happy\",\"new\",\"year\",\"folks\"],3)"
   ]
  },
  {
   "cell_type": "markdown",
   "metadata": {},
   "source": [
    "Ex 30: Represent a small bilingual lexicon as a Python dictionary in the following fashion ```{\"merry\":\"god\", \"christmas\":\"jul\", \"and\":\"och\", \"happy\":\"gott\", \"new\":\"nytt\", \"year\":\"år\"}``` and use it to translate your Christmas cards from English into Swedish. Use the higher order function ```map()``` to write a function ```translate()``` that takes a list of English words and returns a list of Swedish words.\n"
   ]
  },
  {
   "cell_type": "code",
   "execution_count": 264,
   "metadata": {},
   "outputs": [],
   "source": [
    "def translate2(list_of_words):\n",
    "    dictionary={\"merry\":\"god\", \"christmas\":\"jul\", \"and\":\"och\", \"happy\":\"gott\", \"new\":\"nytt\", \"year\":\"år\"}\n",
    "    return list(map(dictionary.get,list_of_words))"
   ]
  },
  {
   "cell_type": "code",
   "execution_count": 265,
   "metadata": {},
   "outputs": [
    {
     "data": {
      "text/plain": [
       "['god', 'jul', 'och', 'gott', 'nytt', 'år', None]"
      ]
     },
     "execution_count": 265,
     "metadata": {},
     "output_type": "execute_result"
    }
   ],
   "source": [
    "translate2([\"merry\",\"christmas\",\"and\",\"happy\",\"new\",\"year\",\"folks\"])"
   ]
  },
  {
   "cell_type": "markdown",
   "metadata": {},
   "source": [
    "Ex 31: Implement the higher order functions ```map()```, ```filter()``` and ```reduce()```. (They are built­in but writing them yourself may be a good exercise.)"
   ]
  },
  {
   "cell_type": "code",
   "execution_count": null,
   "metadata": {},
   "outputs": [],
   "source": [
    "def homemade_map(func,iterable):\n",
    "    return [func(item) for item in iterable]\n",
    "\n",
    "def homemade_filter(func,iterable):\n",
    "    output_iterable=[]\n",
    "    for item in iterable:\n",
    "        if func(item):\n",
    "            output_iterable.append(item)\n",
    "            \n",
    "    return output_iterable\n",
    "\n",
    "def homemade_reduce(func,iterable):\n",
    "    value=iterable[0]\n",
    "    for i in range(1,len(iterable)-1):\n",
    "        value=func(value,iterable[1])\n",
    "        \n",
    "    return value\n",
    "    \n",
    "\n",
    "    "
   ]
  },
  {
   "cell_type": "markdown",
   "metadata": {},
   "source": [
    "Ex 32. Write a version of a palindrome recogniser that accepts a file name from the user, reads each line, and prints the line to the screen if it is a palindrome.\n"
   ]
  },
  {
   "cell_type": "code",
   "execution_count": null,
   "metadata": {},
   "outputs": [],
   "source": []
  },
  {
   "cell_type": "code",
   "execution_count": null,
   "metadata": {},
   "outputs": [],
   "source": []
  },
  {
   "cell_type": "code",
   "execution_count": null,
   "metadata": {},
   "outputs": [],
   "source": []
  },
  {
   "cell_type": "code",
   "execution_count": null,
   "metadata": {},
   "outputs": [],
   "source": []
  },
  {
   "cell_type": "code",
   "execution_count": null,
   "metadata": {},
   "outputs": [],
   "source": []
  }
 ],
 "metadata": {
  "kernelspec": {
   "display_name": "Python 3",
   "language": "python",
   "name": "python3"
  },
  "language_info": {
   "codemirror_mode": {
    "name": "ipython",
    "version": 3
   },
   "file_extension": ".py",
   "mimetype": "text/x-python",
   "name": "python",
   "nbconvert_exporter": "python",
   "pygments_lexer": "ipython3",
   "version": "3.8.3"
  }
 },
 "nbformat": 4,
 "nbformat_minor": 4
}
